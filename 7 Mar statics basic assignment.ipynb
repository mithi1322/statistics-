{
 "cells": [
  {
   "cell_type": "markdown",
   "id": "d413c69e-4836-40c9-b002-533b1ae47ca3",
   "metadata": {},
   "source": [
    "Q1. What are the three measures of central tendency?"
   ]
  },
  {
   "cell_type": "code",
   "execution_count": 1,
   "id": "73f39bc8-e839-4c04-ab54-d12d321e8043",
   "metadata": {},
   "outputs": [
    {
     "data": {
      "text/plain": [
       "'\\nThe three measures of central tendency are:\\n1. Mean\\n2. Median\\n3. Mode\\n'"
      ]
     },
     "execution_count": 1,
     "metadata": {},
     "output_type": "execute_result"
    }
   ],
   "source": [
    "# Answer:\n",
    "'''\n",
    "The three measures of central tendency are:\n",
    "1. Mean\n",
    "2. Median\n",
    "3. Mode\n",
    "'''"
   ]
  },
  {
   "cell_type": "markdown",
   "id": "d57d9770-8c0b-4905-8c91-5294135bb9c8",
   "metadata": {
    "jupyter": {
     "source_hidden": true
    },
    "tags": []
   },
   "source": [
    "Q2. What is the difference between the mean, median, and mode? How are they used to measure the\n",
    "central tendency of a dataset?"
   ]
  },
  {
   "cell_type": "code",
   "execution_count": 2,
   "id": "19ec51ae-2acd-4167-915a-97a8ca743e0a",
   "metadata": {},
   "outputs": [
    {
     "data": {
      "text/plain": [
       "'\\nThe mean is the arithmetic average of all the values in the dataset. The median is the middle value in the dataset when arranged in order. \\nThe mode is the value that appears most frequently in the dataset. These measures are used to provide a representative value that summarizes the dataset.\\n'"
      ]
     },
     "execution_count": 2,
     "metadata": {},
     "output_type": "execute_result"
    }
   ],
   "source": [
    "# Answer:\n",
    "'''\n",
    "The mean is the arithmetic average of all the values in the dataset. The median is the middle value in the dataset when arranged in order. \n",
    "The mode is the value that appears most frequently in the dataset. These measures are used to provide a representative value that summarizes the dataset.\n",
    "'''"
   ]
  },
  {
   "cell_type": "markdown",
   "id": "48aaed1d-6ce9-44b5-bcbe-4f8f4044fbb9",
   "metadata": {},
   "source": [
    "Q3. Measure the three measures of central tendency for the given height data:\n",
    "[178,177,176,177,178.2,178,175,179,180,175,178.9,176.2,177,172.5,178,176.5]"
   ]
  },
  {
   "cell_type": "code",
   "execution_count": 3,
   "id": "0df87399-e680-46bc-bedd-c7422a9c0169",
   "metadata": {},
   "outputs": [
    {
     "name": "stdout",
     "output_type": "stream",
     "text": [
      " Mean is : 177.01875\n",
      " Median is : 177.0\n",
      " Mode is : ModeResult(mode=array([177.]), count=array([3]))\n"
     ]
    },
    {
     "name": "stderr",
     "output_type": "stream",
     "text": [
      "/tmp/ipykernel_3580/798257345.py:6: FutureWarning: Unlike other reduction functions (e.g. `skew`, `kurtosis`), the default behavior of `mode` typically preserves the axis it acts along. In SciPy 1.11.0, this behavior will change: the default value of `keepdims` will become False, the `axis` over which the statistic is taken will be eliminated, and the value None will no longer be accepted. Set `keepdims` to True or False to avoid this warning.\n",
      "  m3=st.mode(data)\n"
     ]
    }
   ],
   "source": [
    "import numpy as np\n",
    "from scipy import stats as st\n",
    "data=[178,177,176,177,178.2,178,175,179,180,175,178.9,176.2,177,172.5,178,176.5]\n",
    "m1=np.mean(data)\n",
    "m2=np.median(data)\n",
    "m3=st.mode(data)\n",
    "\n",
    "print(\" Mean is :\",m1)\n",
    "print(\" Median is :\",m2)\n",
    "print(\" Mode is :\",m3)"
   ]
  },
  {
   "cell_type": "markdown",
   "id": "0971633e-1b83-4e0a-9777-50a2f3d21e44",
   "metadata": {},
   "source": [
    "Q4. Find the standard deviation for the given data:\n",
    "[178,177,176,177,178.2,178,175,179,180,175,178.9,176.2,177,172.5,178,176.5]"
   ]
  },
  {
   "cell_type": "code",
   "execution_count": 4,
   "id": "3172c1a0-bd99-4b53-9501-d2654179ecdc",
   "metadata": {},
   "outputs": [
    {
     "name": "stdout",
     "output_type": "stream",
     "text": [
      "Standard deviation is : 1.7885814036548633\n"
     ]
    }
   ],
   "source": [
    "import numpy as np\n",
    "data=[178,177,176,177,178.2,178,175,179,180,175,178.9,176.2,177,172.5,178,176.5]\n",
    "\n",
    "s=np.std(data)\n",
    "print(\"Standard deviation is :\",s)"
   ]
  },
  {
   "cell_type": "markdown",
   "id": "8488ae06-fde6-4d7e-81fa-fe1a5bd77415",
   "metadata": {},
   "source": [
    "Q5. How are measures of dispersion such as range, variance, and standard deviation used to describe\n",
    "the spread of a dataset? Provide an example."
   ]
  },
  {
   "cell_type": "code",
   "execution_count": 5,
   "id": "97fa252d-30f4-41d2-b3e0-c86787cf7ef0",
   "metadata": {},
   "outputs": [
    {
     "data": {
      "text/plain": [
       "\"\\nMeasures of dispersion, such as range, variance, and standard deviation, are used to describe the spread or variability of a dataset. Here's how they work:\\n\\nRange: The range is the difference between the maximum and minimum values in a dataset. It gives an idea of how spread out the values are in the dataset. \\nFor example, if we have a dataset of test scores ranging from 60 to 95, the range would be 35.\\n\\nVariance: The variance is the average of the squared differences from the mean. It measures how much the data deviates from the mean. A higher variance indicates that the data points are more spread out.\\nFor example, if we have a dataset of salaries with a mean of $50,000, and the variance is $25,000, it means that the salaries are more spread out compared to a dataset with a variance of $10,000.\\n\\nStandard deviation: The standard deviation is the square root of the variance. It measures the spread of the data around the mean. A higher standard deviation indicates that the data points are more spread out. \\nFor example, if we have a dataset of heights with a mean of 68 inches and a standard deviation of 3 inches, it means that most of the heights are within 3 inches of the mean.\\n\""
      ]
     },
     "execution_count": 5,
     "metadata": {},
     "output_type": "execute_result"
    }
   ],
   "source": [
    "# Answer:\n",
    "'''\n",
    "Measures of dispersion, such as range, variance, and standard deviation, are used to describe the spread or variability of a dataset. Here's how they work:\n",
    "\n",
    "Range: The range is the difference between the maximum and minimum values in a dataset. It gives an idea of how spread out the values are in the dataset. \n",
    "For example, if we have a dataset of test scores ranging from 60 to 95, the range would be 35.\n",
    "\n",
    "Variance: The variance is the average of the squared differences from the mean. It measures how much the data deviates from the mean. A higher variance indicates that the data points are more spread out.\n",
    "For example, if we have a dataset of salaries with a mean of $50,000, and the variance is $25,000, it means that the salaries are more spread out compared to a dataset with a variance of $10,000.\n",
    "\n",
    "Standard deviation: The standard deviation is the square root of the variance. It measures the spread of the data around the mean. A higher standard deviation indicates that the data points are more spread out. \n",
    "For example, if we have a dataset of heights with a mean of 68 inches and a standard deviation of 3 inches, it means that most of the heights are within 3 inches of the mean.\n",
    "'''"
   ]
  },
  {
   "cell_type": "markdown",
   "id": "561ca7eb-17e8-4e69-9c5c-3757b558959c",
   "metadata": {},
   "source": [
    "Q6. What is a Venn diagram?"
   ]
  },
  {
   "cell_type": "code",
   "execution_count": 6,
   "id": "a5b5c6e5-a535-4c3c-801b-31539e735404",
   "metadata": {},
   "outputs": [
    {
     "data": {
      "text/plain": [
       "'\\nA Venn diagram is a visual representation of the relationships between sets. It consists of overlapping circles or ellipses,\\nwith each circle representing a set and the overlap representing the intersection of the sets.\\n'"
      ]
     },
     "execution_count": 6,
     "metadata": {},
     "output_type": "execute_result"
    }
   ],
   "source": [
    "# Answer:\n",
    "'''\n",
    "A Venn diagram is a visual representation of the relationships between sets. It consists of overlapping circles or ellipses,\n",
    "with each circle representing a set and the overlap representing the intersection of the sets.\n",
    "'''"
   ]
  },
  {
   "cell_type": "markdown",
   "id": "5cf7678b-0da0-4e68-961a-cb8a160b7ffa",
   "metadata": {},
   "source": [
    "Q7. For the two given sets A = (2,3,4,5,6,7) & B = (0,2,6,8,10). Find:\n",
    "(i) A ⋂ B\n",
    "(ii) A ⋃ B"
   ]
  },
  {
   "cell_type": "code",
   "execution_count": 7,
   "id": "672700ac-0f45-4e53-ab36-920967eb6852",
   "metadata": {},
   "outputs": [
    {
     "data": {
      "text/plain": [
       "'\\nA = (2,3,4,5,6,7) & B = (0,2,6,8,10)\\n\\n(i) A ⋂ B represents the intersection of sets A and B, i.e., the elements that are common to both sets.\\n    A ⋂ B = {2, 6}\\n\\n(ii) A ⋃ B represents the union of sets A and B, i.e., all the elements in both sets, without duplicates.\\n     A ⋃ B = {0, 2, 3, 4, 5, 6, 7, 8, 10}\\n'"
      ]
     },
     "execution_count": 7,
     "metadata": {},
     "output_type": "execute_result"
    }
   ],
   "source": [
    "# Answer:\n",
    "'''\n",
    "A = (2,3,4,5,6,7) & B = (0,2,6,8,10)\n",
    "\n",
    "(i) A ⋂ B represents the intersection of sets A and B, i.e., the elements that are common to both sets.\n",
    "    A ⋂ B = {2, 6}\n",
    "\n",
    "(ii) A ⋃ B represents the union of sets A and B, i.e., all the elements in both sets, without duplicates.\n",
    "     A ⋃ B = {0, 2, 3, 4, 5, 6, 7, 8, 10}\n",
    "'''"
   ]
  },
  {
   "cell_type": "markdown",
   "id": "f2d47ca8-1bcf-42a3-9535-016ca483f783",
   "metadata": {},
   "source": [
    "Q8. What do you understand about skewness in data?"
   ]
  },
  {
   "cell_type": "code",
   "execution_count": 8,
   "id": "f9b5d9b9-f39b-42c1-aa24-acc6367b0a36",
   "metadata": {},
   "outputs": [
    {
     "data": {
      "text/plain": [
       "'\\nIn statistics, skewness refers to the degree of asymmetry of a probability distribution.\\nA distribution is said to be skewed if it is not symmetric, that is, one tail is longer than the other.\\n'"
      ]
     },
     "execution_count": 8,
     "metadata": {},
     "output_type": "execute_result"
    }
   ],
   "source": [
    "# Answer:\n",
    "'''\n",
    "In statistics, skewness refers to the degree of asymmetry of a probability distribution.\n",
    "A distribution is said to be skewed if it is not symmetric, that is, one tail is longer than the other.\n",
    "'''"
   ]
  },
  {
   "cell_type": "markdown",
   "id": "94013283-0588-4299-b1c9-c9f51e4d3a05",
   "metadata": {},
   "source": [
    "Q9. If a data is right skewed then what will be the position of median with respect to mean?"
   ]
  },
  {
   "cell_type": "code",
   "execution_count": 9,
   "id": "09834ed7-0660-487f-9c2d-53928275bbe2",
   "metadata": {},
   "outputs": [
    {
     "data": {
      "text/plain": [
       "'\\nIf the data is right-skewed, the median will be lower than the mean\\n'"
      ]
     },
     "execution_count": 9,
     "metadata": {},
     "output_type": "execute_result"
    }
   ],
   "source": [
    "# Answer:\n",
    "'''\n",
    "If the data is right-skewed, the median will be lower than the mean\n",
    "'''"
   ]
  },
  {
   "cell_type": "markdown",
   "id": "668b26d2-e823-48f6-bd25-49edf808614c",
   "metadata": {},
   "source": [
    "Q10. Explain the difference between covariance and correlation. How are these measures used in\n",
    "statistical analysis?"
   ]
  },
  {
   "cell_type": "code",
   "execution_count": 10,
   "id": "c8490607-629c-46df-adc2-006cf337d123",
   "metadata": {},
   "outputs": [
    {
     "data": {
      "text/plain": [
       "'\\nCovariance measures the degree to which two variables vary together. \\nIt is a measure of the linear relationship between two variables, and it can take on positive or negative values. \\n\\nCorrelation, on the other hand, measures the strength and direction of the linear relationship between two variables.\\n\\nBoth covariance and correlation are used in statistical analysis to understand the relationship between variables. \\nCovariance is used to calculate other statistical measures such as the slope of the regression line in linear regression analysis,\\nwhile correlation is used to identify the strength of the relationship between two variables and to determine the direction of the relationship. \\nCorrelation is also used in predictive modeling and in identifying significant predictors in regression models.\\n'"
      ]
     },
     "execution_count": 10,
     "metadata": {},
     "output_type": "execute_result"
    }
   ],
   "source": [
    "# Answer:\n",
    "'''\n",
    "Covariance measures the degree to which two variables vary together. \n",
    "It is a measure of the linear relationship between two variables, and it can take on positive or negative values. \n",
    "\n",
    "Correlation, on the other hand, measures the strength and direction of the linear relationship between two variables.\n",
    "\n",
    "Both covariance and correlation are used in statistical analysis to understand the relationship between variables. \n",
    "Covariance is used to calculate other statistical measures such as the slope of the regression line in linear regression analysis,\n",
    "while correlation is used to identify the strength of the relationship between two variables and to determine the direction of the relationship. \n",
    "Correlation is also used in predictive modeling and in identifying significant predictors in regression models.\n",
    "'''\n"
   ]
  },
  {
   "cell_type": "markdown",
   "id": "360f91b9-1c7d-4ee4-a983-257cc556ae6c",
   "metadata": {},
   "source": [
    "Q11. What is the formula for calculating the sample mean? Provide an example calculation for a\n",
    "dataset."
   ]
  },
  {
   "cell_type": "code",
   "execution_count": 11,
   "id": "28f9c1b2-3ed2-4ed9-9ea7-367d5f302f93",
   "metadata": {},
   "outputs": [
    {
     "data": {
      "text/plain": [
       "'\\nThe formula for calculating the sample mean, denoted by x̄, is:\\n    x̄ = (Σ xi) / n\\n\\nwhere Σ xi represents the sum of all the values in the dataset, and n represents the number of values in the dataset.\\n\\nFor example, consider the following dataset:\\n        [5, 8, 10, 12, 15]\\nTo calculate the sample mean, we first add up all the values in the dataset:\\n5 + 8 + 10 + 12 + 15 = 50\\nThen, we divide the sum by the number of values in the dataset:\\n50 / 5 = 10\\n\\nTherefore, the sample mean of the dataset is 10.\\n'"
      ]
     },
     "execution_count": 11,
     "metadata": {},
     "output_type": "execute_result"
    }
   ],
   "source": [
    "# Answer:\n",
    "'''\n",
    "The formula for calculating the sample mean, denoted by x̄, is:\n",
    "    x̄ = (Σ xi) / n\n",
    "\n",
    "where Σ xi represents the sum of all the values in the dataset, and n represents the number of values in the dataset.\n",
    "\n",
    "For example, consider the following dataset:\n",
    "        [5, 8, 10, 12, 15]\n",
    "To calculate the sample mean, we first add up all the values in the dataset:\n",
    "5 + 8 + 10 + 12 + 15 = 50\n",
    "Then, we divide the sum by the number of values in the dataset:\n",
    "50 / 5 = 10\n",
    "\n",
    "Therefore, the sample mean of the dataset is 10.\n",
    "'''"
   ]
  },
  {
   "cell_type": "markdown",
   "id": "e0e45867-f864-4d0a-a8a8-991db9b19695",
   "metadata": {},
   "source": [
    "Q12. For a normal distribution data what is the relationship between its measure of central tendency?"
   ]
  },
  {
   "cell_type": "code",
   "execution_count": 12,
   "id": "6c09e659-5dfc-418f-9a7e-d6b215d6d234",
   "metadata": {},
   "outputs": [
    {
     "data": {
      "text/plain": [
       "'\\nFor a normal distribution, the mean, median, and mode are all equal. This means that the data is symmetrically distributed around the central value, \\nand there are no outliers or skewness in the data.\\n'"
      ]
     },
     "execution_count": 12,
     "metadata": {},
     "output_type": "execute_result"
    }
   ],
   "source": [
    "# Answer:\n",
    "'''\n",
    "For a normal distribution, the mean, median, and mode are all equal. This means that the data is symmetrically distributed around the central value, \n",
    "and there are no outliers or skewness in the data.\n",
    "'''"
   ]
  },
  {
   "cell_type": "markdown",
   "id": "8f7ac5ec-77d1-4407-9b5b-32b457bc97ee",
   "metadata": {},
   "source": [
    "Q13. How is covariance different from correlation?"
   ]
  },
  {
   "cell_type": "code",
   "execution_count": 13,
   "id": "ec3788b7-02ab-40af-9e46-f8767c850650",
   "metadata": {},
   "outputs": [
    {
     "data": {
      "text/plain": [
       "'\\nCorrelation, on the other hand, is a standardized measure of the linear relationship between two variables. \\nThe correlation coefficient is a number between -1 and 1 that indicates the strength and direction of the linear relationship between two variables. \\nThe formula for the sample correlation coefficient, r, between two variables X and Y, with sample size n, is:\\n\\nr = Cov(X,Y) / (sX sY)\\nwhere Cov(X,Y) is the covariance between X and Y, sX and sY are the standard deviations of X and Y, respectively.\\n'"
      ]
     },
     "execution_count": 13,
     "metadata": {},
     "output_type": "execute_result"
    }
   ],
   "source": [
    "# Answer:\n",
    "\n",
    "# Covariance:\n",
    "'''\n",
    "Covariance is a measure of the degree to which two variables vary together. It is a measure of the linear association between two variables. \n",
    "The formula for covariance between two variables X and Y, with sample size n, is:\n",
    "\n",
    "Cov(X,Y) = Σ[(Xi - X̄)(Yi - Ȳ)] / (n-1)\n",
    "where Xi and Yi are the ith values of the two variables, X̄ and Ȳ are their respective sample means.\n",
    "'''\n",
    "# Correlation:\n",
    "'''\n",
    "Correlation, on the other hand, is a standardized measure of the linear relationship between two variables. \n",
    "The correlation coefficient is a number between -1 and 1 that indicates the strength and direction of the linear relationship between two variables. \n",
    "The formula for the sample correlation coefficient, r, between two variables X and Y, with sample size n, is:\n",
    "\n",
    "r = Cov(X,Y) / (sX sY)\n",
    "where Cov(X,Y) is the covariance between X and Y, sX and sY are the standard deviations of X and Y, respectively.\n",
    "'''"
   ]
  },
  {
   "cell_type": "markdown",
   "id": "d9fc1434-065a-4ea2-a887-e0b4b3ccc501",
   "metadata": {},
   "source": [
    "Q14. How do outliers affect measures of central tendency and dispersion? Provide an example."
   ]
  },
  {
   "cell_type": "code",
   "execution_count": 14,
   "id": "89bd0f09-4f26-4712-a42e-3b58c496502f",
   "metadata": {},
   "outputs": [
    {
     "data": {
      "text/plain": [
       "'\\nOutliers are extreme values that are significantly different from other values in a dataset. \\nOutliers can have a significant effect on measures of central tendency and dispersion.\\n\\nIn terms of measures of central tendency, outliers can significantly impact the mean while having less effect on the median and mode. \\nThis is because the mean is influenced by extreme values, while the median and mode are not. For example, consider the following \\ndataset: 1, 2, 3, 4, 5, 10. The mean is 4.16, while the median is 3.5 and the mode is not defined. The presence of the outlier value 10 significantly increased the mean, \\nwhile having little effect on the median.\\n\\nIn terms of measures of dispersion, outliers can increase the range and standard deviation of a dataset. \\nThis is because these measures take into account the distance of each value from the center of the data. \\nOutliers that are far from the center of the data can increase these measures. For example, consider the following \\ndataset: 1, 2, 3, 4, 5, 100. The range is 99, while the standard deviation is 37.96, indicating a large amount of dispersion in the data due to the outlier value 100.\\n'"
      ]
     },
     "execution_count": 14,
     "metadata": {},
     "output_type": "execute_result"
    }
   ],
   "source": [
    "# Answer:\n",
    "'''\n",
    "Outliers are extreme values that are significantly different from other values in a dataset. \n",
    "Outliers can have a significant effect on measures of central tendency and dispersion.\n",
    "\n",
    "In terms of measures of central tendency, outliers can significantly impact the mean while having less effect on the median and mode. \n",
    "This is because the mean is influenced by extreme values, while the median and mode are not. For example, consider the following \n",
    "dataset: 1, 2, 3, 4, 5, 10. The mean is 4.16, while the median is 3.5 and the mode is not defined. The presence of the outlier value 10 significantly increased the mean, \n",
    "while having little effect on the median.\n",
    "\n",
    "In terms of measures of dispersion, outliers can increase the range and standard deviation of a dataset. \n",
    "This is because these measures take into account the distance of each value from the center of the data. \n",
    "Outliers that are far from the center of the data can increase these measures. For example, consider the following \n",
    "dataset: 1, 2, 3, 4, 5, 100. The range is 99, while the standard deviation is 37.96, indicating a large amount of dispersion in the data due to the outlier value 100.\n",
    "'''"
   ]
  },
  {
   "cell_type": "code",
   "execution_count": null,
   "id": "c3e2de1a-ddc7-42ab-a524-f34776fd15ce",
   "metadata": {},
   "outputs": [],
   "source": []
  }
 ],
 "metadata": {
  "kernelspec": {
   "display_name": "Python 3 (ipykernel)",
   "language": "python",
   "name": "python3"
  },
  "language_info": {
   "codemirror_mode": {
    "name": "ipython",
    "version": 3
   },
   "file_extension": ".py",
   "mimetype": "text/x-python",
   "name": "python",
   "nbconvert_exporter": "python",
   "pygments_lexer": "ipython3",
   "version": "3.10.8"
  }
 },
 "nbformat": 4,
 "nbformat_minor": 5
}
