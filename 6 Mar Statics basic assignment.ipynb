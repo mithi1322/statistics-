{
 "cells": [
  {
   "cell_type": "markdown",
   "id": "91498eb0-c358-4761-a6f7-45e031435cc6",
   "metadata": {},
   "source": [
    "Q1. What is Statistics?"
   ]
  },
  {
   "cell_type": "code",
   "execution_count": 1,
   "id": "a1d218b7-d969-4d6e-862e-271aaf2454b7",
   "metadata": {},
   "outputs": [
    {
     "data": {
      "text/plain": [
       "'Statistics is a branch of mathematics that deals with the collection, analysis, interpretation, presentation, and organization of data.'"
      ]
     },
     "execution_count": 1,
     "metadata": {},
     "output_type": "execute_result"
    }
   ],
   "source": [
    "# Answer:\n",
    "'''Statistics is a branch of mathematics that deals with the collection, analysis, interpretation, presentation, and organization of data.'''"
   ]
  },
  {
   "cell_type": "markdown",
   "id": "3582755b-876e-427d-b4b2-c40502a57f8c",
   "metadata": {},
   "source": [
    "Q2. Define the different types of statistics and give an example of when each type might be used."
   ]
  },
  {
   "cell_type": "code",
   "execution_count": 2,
   "id": "4e97709a-3a2e-4bb7-b57b-5b51f0a92cf7",
   "metadata": {},
   "outputs": [
    {
     "data": {
      "text/plain": [
       "'There are two main types of statistics: descriptive statistics and inferential statistics.\\n\\n1. Descriptive statistics: Suppose a researcher wants to summarize the scores of a group of students on a test. \\n    They might use descriptive statistics to calculate the mean, median, and standard deviation of the scores, and create a histogram or box plot to visualize the distribution of scores.\\n\\n2. Inferential statistics: Suppose a company wants to know if there is a difference in the average income between men and women in their workforce. \\n    They might take a sample of employees from each group, calculate the mean income of each sample, and use inferential statistics to determine if the difference in means is statistically significant.'"
      ]
     },
     "execution_count": 2,
     "metadata": {},
     "output_type": "execute_result"
    }
   ],
   "source": [
    "# Answer:\n",
    "'''There are two main types of statistics: descriptive statistics and inferential statistics.\n",
    "\n",
    "1. Descriptive statistics: Suppose a researcher wants to summarize the scores of a group of students on a test. \n",
    "    They might use descriptive statistics to calculate the mean, median, and standard deviation of the scores, and create a histogram or box plot to visualize the distribution of scores.\n",
    "\n",
    "2. Inferential statistics: Suppose a company wants to know if there is a difference in the average income between men and women in their workforce. \n",
    "    They might take a sample of employees from each group, calculate the mean income of each sample, and use inferential statistics to determine if the difference in means is statistically significant.'''"
   ]
  },
  {
   "cell_type": "markdown",
   "id": "f4943028-d701-48ff-9a2c-eda382afd9da",
   "metadata": {},
   "source": [
    "Q3. What are the different types of data and how do they differ from each other? Provide an example of\n",
    "each type of data."
   ]
  },
  {
   "cell_type": "code",
   "execution_count": 3,
   "id": "02c6d7f6-33f0-4184-9e20-e284670e45e4",
   "metadata": {},
   "outputs": [
    {
     "data": {
      "text/plain": [
       "' Quantitative data: Height, weight, age, income, test scores, temperature, number of hours spent studying.\\n\\n    Qualitative data: Gender, color, language, religion, type of car, favorite food, personality type.'"
      ]
     },
     "execution_count": 3,
     "metadata": {},
     "output_type": "execute_result"
    }
   ],
   "source": [
    "# Answer:\n",
    "''' There are two main types of data: quantitative data and qualitative data. Quantitative data is numerical data that can be measured and analyzed using mathematical or statistical methods, \n",
    "    while qualitative data is non-numerical data that describes qualities or characteristics.'''\n",
    "# Example:\n",
    "\n",
    "''' Quantitative data: Height, weight, age, income, test scores, temperature, number of hours spent studying.\n",
    "\n",
    "    Qualitative data: Gender, color, language, religion, type of car, favorite food, personality type.'''\n",
    "    \n"
   ]
  },
  {
   "cell_type": "markdown",
   "id": "4373162c-4f3f-4e88-8441-0996f725141a",
   "metadata": {},
   "source": [
    "Q4. Categorise the following datasets with respect to quantitative and qualitative data types:\n",
    "\n",
    "(i) Grading in exam: A+, A, B+, B, C+, C, D, E\n",
    "\n",
    "(ii) Colour of mangoes: yellow, green, orange, red\n",
    "\n",
    "(iii) Height data of a class: [178.9, 179, 179.5, 176, 177.2, 178.3, 175.8,...]\n",
    "\n",
    "(iv) Number of mangoes exported by a farm: [500, 600, 478, 672, ...]"
   ]
  },
  {
   "cell_type": "code",
   "execution_count": 4,
   "id": "958b5c2e-cb0d-4d8e-88ad-ecf7cee036a0",
   "metadata": {},
   "outputs": [
    {
     "data": {
      "text/plain": [
       "'The datasets can be categorized as follows:\\n\\n(i) Grading in exam: Qualitative data (ordinal).\\n(ii) Colour of mangoes: Qualitative data (nominal).\\n(iii) Height data of a class: Quantitative data (continuous).\\n(iv) Number of mangoes exported by a farm: Quantitative data (discrete).'"
      ]
     },
     "execution_count": 4,
     "metadata": {},
     "output_type": "execute_result"
    }
   ],
   "source": [
    "# Answer:\n",
    "'''The datasets can be categorized as follows:\n",
    "\n",
    "(i) Grading in exam: Qualitative data (ordinal).\n",
    "(ii) Colour of mangoes: Qualitative data (nominal).\n",
    "(iii) Height data of a class: Quantitative data (continuous).\n",
    "(iv) Number of mangoes exported by a farm: Quantitative data (discrete).'''"
   ]
  },
  {
   "cell_type": "markdown",
   "id": "0aa048c8-51b0-40c4-9fba-f17c017c2496",
   "metadata": {},
   "source": [
    "Q5. Explain the concept of levels of measurement and give an example of a variable for each level."
   ]
  },
  {
   "cell_type": "code",
   "execution_count": 5,
   "id": "d10eb235-48c5-4277-909c-4127a346084d",
   "metadata": {},
   "outputs": [
    {
     "data": {
      "text/plain": [
       "' Nominal: Include gender, nationality, or hair color.\\n    Ordinal: Include educational level (e.g., elementary school, high school, college), or grades (e.g., A, B, C, D).\\n    Interval: Include temperature measured in Celsius or Fahrenheit.\\n    Ratio: Include weight, height, and time.'"
      ]
     },
     "execution_count": 5,
     "metadata": {},
     "output_type": "execute_result"
    }
   ],
   "source": [
    "# Answer:\n",
    "'''Levels of measurement refer to the different ways in which data can be measured and categorized. \n",
    "    The four levels of measurement are nominal, ordinal, interval, and ratio.'''\n",
    "# Example of a variable for each level:\n",
    "\n",
    "''' Nominal: Include gender, nationality, or hair color.\n",
    "    Ordinal: Include educational level (e.g., elementary school, high school, college), or grades (e.g., A, B, C, D).\n",
    "    Interval: Include temperature measured in Celsius or Fahrenheit.\n",
    "    Ratio: Include weight, height, and time.'''"
   ]
  },
  {
   "cell_type": "markdown",
   "id": "f29c0eea-52a6-45b7-aa62-af37a50bcbb1",
   "metadata": {},
   "source": [
    "Q6. Why is it important to understand the level of measurement when analyzing data? Provide an\n",
    "example to illustrate your answer."
   ]
  },
  {
   "cell_type": "code",
   "execution_count": 6,
   "id": "4f32943b-d9b4-4a4f-9920-195f42bc761d",
   "metadata": {},
   "outputs": [
    {
     "data": {
      "text/plain": [
       "' It is important to understand the level of measurement when analyzing data because it determines the type of statistical analysis that can be used. \\n    For example, nominal data can only be summarized using frequency counts and percentages, while ratio data can be analyzed using more advanced statistical techniques such as regression analysis. \\n    Failure to use the appropriate statistical analysis for the level of measurement can lead to erroneous conclusions. For instance, \\n    calculating the mean of ordinal data could lead to an incorrect interpretation of the data since it assumes equal distances between categories, which may not be true.'"
      ]
     },
     "execution_count": 6,
     "metadata": {},
     "output_type": "execute_result"
    }
   ],
   "source": [
    "# Answer:\n",
    "''' It is important to understand the level of measurement when analyzing data because it determines the type of statistical analysis that can be used. \n",
    "    For example, nominal data can only be summarized using frequency counts and percentages, while ratio data can be analyzed using more advanced statistical techniques such as regression analysis. \n",
    "    Failure to use the appropriate statistical analysis for the level of measurement can lead to erroneous conclusions. For instance, \n",
    "    calculating the mean of ordinal data could lead to an incorrect interpretation of the data since it assumes equal distances between categories, which may not be true.'''"
   ]
  },
  {
   "cell_type": "markdown",
   "id": "af4fe601-2793-4ea6-8069-7159d7cc13c0",
   "metadata": {},
   "source": [
    "Q7. How nominal data type is different from ordinal data type."
   ]
  },
  {
   "cell_type": "code",
   "execution_count": 7,
   "id": "b15f6bb4-4e3a-422d-a9fb-5dcb62590dbd",
   "metadata": {},
   "outputs": [
    {
     "data": {
      "text/plain": [
       "'Nominal data is different from ordinal data because nominal data is categorical and has no intrinsic order, \\n    while ordinal data has categories that can be ordered or ranked.'"
      ]
     },
     "execution_count": 7,
     "metadata": {},
     "output_type": "execute_result"
    }
   ],
   "source": [
    "# Asnwer:\n",
    "'''Nominal data is different from ordinal data because nominal data is categorical and has no intrinsic order, \n",
    "    while ordinal data has categories that can be ordered or ranked.'''"
   ]
  },
  {
   "cell_type": "markdown",
   "id": "d8dfa0f8-c4fa-4b4e-97f2-60cb37bdeb18",
   "metadata": {},
   "source": [
    "Q8. Which type of plot can be used to display data in terms of range?"
   ]
  },
  {
   "cell_type": "code",
   "execution_count": 8,
   "id": "ed507f74-aa9e-4b6a-ab5e-da17dedbce8b",
   "metadata": {},
   "outputs": [],
   "source": [
    "# Answer:\n",
    "# A box plot can be used to display data in terms of range."
   ]
  },
  {
   "cell_type": "markdown",
   "id": "face9a0e-5556-446b-a80b-d988b542ca6c",
   "metadata": {},
   "source": [
    "Q9. Describe the difference between descriptive and inferential statistics. Give an example of each\n",
    "type of statistics and explain how they are used."
   ]
  },
  {
   "cell_type": "code",
   "execution_count": 9,
   "id": "ee5b4ee4-0cfa-4f94-865e-28c6c445e78e",
   "metadata": {},
   "outputs": [
    {
     "data": {
      "text/plain": [
       "'Descriptive statistics: Suppose a researcher wants to summarize the scores of a group of students on a test. \\n                           They might use descriptive statistics to calculate the mean, median, and standard deviation of the scores, \\n                           and create a histogram or box plot to visualize the distribution of scores.\\n\\nInferential statistics: Suppose a company wants to know if there is a difference in the average income between men and women in their workforce. \\n                        They might take a sample of employees from each group, calculate the mean income of each sample, and use inferential \\n                        statistics to determine if the difference in means is statistically significant.'"
      ]
     },
     "execution_count": 9,
     "metadata": {},
     "output_type": "execute_result"
    }
   ],
   "source": [
    "# Answer:\n",
    "'''Descriptive statistics: Suppose a researcher wants to summarize the scores of a group of students on a test. \n",
    "                           They might use descriptive statistics to calculate the mean, median, and standard deviation of the scores, \n",
    "                           and create a histogram or box plot to visualize the distribution of scores.\n",
    "\n",
    "Inferential statistics: Suppose a company wants to know if there is a difference in the average income between men and women in their workforce. \n",
    "                        They might take a sample of employees from each group, calculate the mean income of each sample, and use inferential \n",
    "                        statistics to determine if the difference in means is statistically significant.'''"
   ]
  },
  {
   "cell_type": "markdown",
   "id": "7d8df76c-3e42-4d8f-a493-b165b5e66539",
   "metadata": {},
   "source": [
    "Q10. What are some common measures of central tendency and variability used in statistics? Explain\n",
    "how each measure can be used to describe a dataset."
   ]
  },
  {
   "cell_type": "code",
   "execution_count": 10,
   "id": "3ff1fe70-dcf4-42e9-bb5e-214640279c12",
   "metadata": {},
   "outputs": [
    {
     "data": {
      "text/plain": [
       "'Here are some common measures of central tendency and variability:\\n\\nMean: The mean is the sum of all the values in a dataset divided by the total number of values. It is often used to represent the \"average\" value of a dataset. The mean is sensitive to outliers and extreme values in the dataset.\\nMedian: The median is the middle value in a dataset when the values are arranged in order. It is less sensitive to outliers and extreme values than the mean and is often used to describe datasets with skewed distributions.\\nMode: The mode is the most frequently occurring value in a dataset. It is useful for describing the most common value in a dataset.\\nRange: The range is the difference between the largest and smallest values in a dataset. It provides information about the spread of the data, but is sensitive to extreme values.\\nVariance: The variance measures how spread out the data is around the mean. It is calculated by taking the average of the squared differences between each value and the mean. It is useful for describing the variability of a dataset.\\nStandard Deviation: The standard deviation is the square root of the variance. It is often used as a measure of the spread of the data and is useful for comparing the variability of different datasets.'"
      ]
     },
     "execution_count": 10,
     "metadata": {},
     "output_type": "execute_result"
    }
   ],
   "source": [
    "# Answer:\n",
    "'''Here are some common measures of central tendency and variability:\n",
    "\n",
    "Mean: The mean is the sum of all the values in a dataset divided by the total number of values. It is often used to represent the \"average\" value of a dataset. The mean is sensitive to outliers and extreme values in the dataset.\n",
    "Median: The median is the middle value in a dataset when the values are arranged in order. It is less sensitive to outliers and extreme values than the mean and is often used to describe datasets with skewed distributions.\n",
    "Mode: The mode is the most frequently occurring value in a dataset. It is useful for describing the most common value in a dataset.\n",
    "Range: The range is the difference between the largest and smallest values in a dataset. It provides information about the spread of the data, but is sensitive to extreme values.\n",
    "Variance: The variance measures how spread out the data is around the mean. It is calculated by taking the average of the squared differences between each value and the mean. It is useful for describing the variability of a dataset.\n",
    "Standard Deviation: The standard deviation is the square root of the variance. It is often used as a measure of the spread of the data and is useful for comparing the variability of different datasets.'''\n"
   ]
  },
  {
   "cell_type": "code",
   "execution_count": null,
   "id": "fa5dc979-8bcb-4b4d-ab5c-3fdf88f3011c",
   "metadata": {},
   "outputs": [],
   "source": []
  }
 ],
 "metadata": {
  "kernelspec": {
   "display_name": "Python 3 (ipykernel)",
   "language": "python",
   "name": "python3"
  },
  "language_info": {
   "codemirror_mode": {
    "name": "ipython",
    "version": 3
   },
   "file_extension": ".py",
   "mimetype": "text/x-python",
   "name": "python",
   "nbconvert_exporter": "python",
   "pygments_lexer": "ipython3",
   "version": "3.10.8"
  }
 },
 "nbformat": 4,
 "nbformat_minor": 5
}
