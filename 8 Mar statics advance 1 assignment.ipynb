{
 "cells": [
  {
   "cell_type": "markdown",
   "id": "38337870-02c1-4045-b35c-af19f2471561",
   "metadata": {},
   "source": [
    "Q1. What is the Probability density function?"
   ]
  },
  {
   "cell_type": "code",
   "execution_count": 1,
   "id": "bbc68cae-381b-45f4-b310-4a6465c784c3",
   "metadata": {},
   "outputs": [
    {
     "data": {
      "text/plain": [
       "'\\nThe probability density function (PDF) is a mathematical function that describes the relative likelihood of a continuous random variable taking on a given value. \\nIt is used to specify the probability of the random variable falling within a particular range of values, rather than taking on any one specific value\\n'"
      ]
     },
     "execution_count": 1,
     "metadata": {},
     "output_type": "execute_result"
    }
   ],
   "source": [
    "# Answer:\n",
    "'''\n",
    "The probability density function (PDF) is a mathematical function that describes the relative likelihood of a continuous random variable taking on a given value. \n",
    "It is used to specify the probability of the random variable falling within a particular range of values, rather than taking on any one specific value\n",
    "'''"
   ]
  },
  {
   "cell_type": "markdown",
   "id": "29a67fbf-ae96-48eb-a3d1-763e7c9cf43c",
   "metadata": {},
   "source": [
    "Q2. What are the types of Probability distribution?"
   ]
  },
  {
   "cell_type": "code",
   "execution_count": 2,
   "id": "f87ce362-fcf2-46f0-8ba8-fa10b2c2ece5",
   "metadata": {},
   "outputs": [
    {
     "data": {
      "text/plain": [
       "'\\nThere are several types of probability distributions, but some of the most commonly used ones are:\\n\\n1. Normal distribution\\n2. Binomial distribution\\n3. Poisson distribution\\n4. Exponential distribution\\n5. Uniform distribution\\n'"
      ]
     },
     "execution_count": 2,
     "metadata": {},
     "output_type": "execute_result"
    }
   ],
   "source": [
    "# Answer:\n",
    "'''\n",
    "There are several types of probability distributions, but some of the most commonly used ones are:\n",
    "\n",
    "1. Normal distribution\n",
    "2. Binomial distribution\n",
    "3. Poisson distribution\n",
    "4. Exponential distribution\n",
    "5. Uniform distribution\n",
    "'''"
   ]
  },
  {
   "cell_type": "markdown",
   "id": "ce0f4ab4-236d-441e-9294-80de831845b2",
   "metadata": {},
   "source": [
    "Q3. Write a Python function to calculate the probability density function of a normal distribution with\n",
    "given mean and standard deviation at a given point."
   ]
  },
  {
   "cell_type": "code",
   "execution_count": 3,
   "id": "5b3a054a-37bf-4e46-9e90-b98d3981372c",
   "metadata": {},
   "outputs": [
    {
     "name": "stdout",
     "output_type": "stream",
     "text": [
      "0.12951759566589174\n"
     ]
    }
   ],
   "source": [
    "import math\n",
    "\n",
    "def normal_pdf(x, mean, std_dev):\n",
    "    #Calculates the PDF of a normal distribution at a given point x with a given mean and standard deviation.\n",
    "    exponent = -((x - mean) ** 2) / (2 * (std_dev ** 2))\n",
    "    coefficient = 1 / (std_dev * math.sqrt(2 * math.pi))\n",
    "    return coefficient * math.exp(exponent)\n",
    "\n",
    "pdf_value = normal_pdf(1.5, 0, 1)\n",
    "print(pdf_value)\n"
   ]
  },
  {
   "cell_type": "markdown",
   "id": "1fd083fa-0225-480d-8182-3e9e0007fef6",
   "metadata": {},
   "source": [
    "Q4. What are the properties of Binomial distribution? Give two examples of events where binomial\n",
    "distribution can be applied."
   ]
  },
  {
   "cell_type": "code",
   "execution_count": 4,
   "id": "8d575a06-5960-4b1b-a464-c85b27430b88",
   "metadata": {},
   "outputs": [
    {
     "data": {
      "text/plain": [
       "'\\nTossing a coin: Each toss of a coin is a trial with two possible outcomes, heads or tails. The probability of getting heads or tails remains the same for each toss, \\n                and the tosses are independent of each other. Therefore, the number of heads or tails in a fixed number of tosses can be modeled using a binomial distribution.\\n\\nQuality control in manufacturing: A manufacturer wants to know the number of defective products in a batch of a fixed size. \\n                Each product is either defective or non-defective, and the probability of a defective product remains constant for each item. The items are also independent of each other. \\n                Therefore, the number of defective products in a batch can be modeled using a binomial distribution.\\n'"
      ]
     },
     "execution_count": 4,
     "metadata": {},
     "output_type": "execute_result"
    }
   ],
   "source": [
    "# Answer:\n",
    "# The properties of the binomial distribution are:\n",
    "'''\n",
    "1. The experiment consists of a fixed number of trials, denoted by n.\n",
    "2. Each trial results in one of two possible outcomes, success or failure.\n",
    "3. The probability of success, denoted by p, remains constant from trial to trial.\n",
    "4. The trials are independent of each other.\n",
    "'''\n",
    "# Two examples of events where binomial distribution can be applied are:\n",
    "'''\n",
    "Tossing a coin: Each toss of a coin is a trial with two possible outcomes, heads or tails. The probability of getting heads or tails remains the same for each toss, \n",
    "                and the tosses are independent of each other. Therefore, the number of heads or tails in a fixed number of tosses can be modeled using a binomial distribution.\n",
    "\n",
    "Quality control in manufacturing: A manufacturer wants to know the number of defective products in a batch of a fixed size. \n",
    "                Each product is either defective or non-defective, and the probability of a defective product remains constant for each item. The items are also independent of each other. \n",
    "                Therefore, the number of defective products in a batch can be modeled using a binomial distribution.\n",
    "'''"
   ]
  },
  {
   "cell_type": "markdown",
   "id": "328baac3-d930-448b-9279-adab6ef7c775",
   "metadata": {},
   "source": [
    "Q5. Generate a random sample of size 1000 from a binomial distribution with probability of success 0.4\n",
    "and plot a histogram of the results using matplotlib."
   ]
  },
  {
   "cell_type": "code",
   "execution_count": 5,
   "id": "c2424da7-f87b-4933-9cc3-d9c81c1b1b63",
   "metadata": {},
   "outputs": [
    {
     "data": {
      "image/png": "[encoded data removed]",
      "text/plain": [
       "<Figure size 640x480 with 1 Axes>"
      ]
     },
     "metadata": {},
     "output_type": "display_data"
    }
   ],
   "source": [
    "import numpy as np\n",
    "import matplotlib.pyplot as plt\n",
    "\n",
    "# Generate random sample\n",
    "sample_size = 1000\n",
    "p = 0.4\n",
    "n = np.random.binomial(1, p, sample_size)\n",
    "\n",
    "# Plot histogram\n",
    "plt.hist(n, bins=10, alpha=1)\n",
    "plt.xlabel('Number of Successes')\n",
    "plt.ylabel('Frequency')\n",
    "plt.title('Histogram of Binomial Distribution')\n",
    "plt.show()\n"
   ]
  },
  {
   "cell_type": "markdown",
   "id": "1a6faca0-2eca-429c-816e-282eb971e6de",
   "metadata": {},
   "source": [
    "Q6. Write a Python function to calculate the cumulative distribution function of a Poisson distribution\n",
    "with given mean at a given point."
   ]
  },
  {
   "cell_type": "code",
   "execution_count": 6,
   "id": "61e70ec0-34ae-48ff-90d2-d5c54b99b94a",
   "metadata": {},
   "outputs": [
    {
     "name": "stdout",
     "output_type": "stream",
     "text": [
      "0.5960388259320683\n"
     ]
    }
   ],
   "source": [
    "import math\n",
    "\n",
    "def poisson_cdf(mean, k):\n",
    "    cdf = 0\n",
    "    for i in range(k + 1):\n",
    "        cdf += (math.exp(-mean) * mean**i) / math.factorial(i)\n",
    "    return cdf\n",
    "\n",
    "print(poisson_cdf(2.3,2))\n"
   ]
  },
  {
   "cell_type": "markdown",
   "id": "a6e1bb00-6ae3-4a4d-87d7-75f8c5c8c0ba",
   "metadata": {},
   "source": [
    "Q7. How Binomial distribution different from Poisson distribution?"
   ]
  },
  {
   "cell_type": "code",
   "execution_count": 7,
   "id": "e22569be-af21-4dc4-9653-052dccb6f333",
   "metadata": {},
   "outputs": [
    {
     "data": {
      "text/plain": [
       "'\\n1. Number of Trials: Binomial distribution deals with a fixed number of trials while Poisson distribution deals with an unknown and variable number of trials.\\n\\n2. Probability of Success: In binomial distribution, the probability of success remains constant for all trials, \\n    while in Poisson distribution, the probability of success varies from trial to trial.\\n\\n3. Distribution Type: Binomial distribution is a discrete probability distribution, while Poisson distribution is \\n    a probability distribution for a count variable, which can take on only non-negative integer values.\\n'"
      ]
     },
     "execution_count": 7,
     "metadata": {},
     "output_type": "execute_result"
    }
   ],
   "source": [
    "# Answer:\n",
    "\n",
    "# Binomial distribution and Poisson distribution are both discrete probability distributions, but they differ in the following ways:\n",
    "'''\n",
    "1. Number of Trials: Binomial distribution deals with a fixed number of trials while Poisson distribution deals with an unknown and variable number of trials.\n",
    "\n",
    "2. Probability of Success: In binomial distribution, the probability of success remains constant for all trials, \n",
    "    while in Poisson distribution, the probability of success varies from trial to trial.\n",
    "\n",
    "3. Distribution Type: Binomial distribution is a discrete probability distribution, while Poisson distribution is \n",
    "    a probability distribution for a count variable, which can take on only non-negative integer values.\n",
    "'''"
   ]
  },
  {
   "cell_type": "markdown",
   "id": "107ded0e-e285-4e41-a61b-4f197ee84b9c",
   "metadata": {},
   "source": [
    "Q8. Generate a random sample of size 1000 from a Poisson distribution with mean 5 and calculate the\n",
    "sample mean and variance."
   ]
  },
  {
   "cell_type": "code",
   "execution_count": 8,
   "id": "336fc44c-2fdc-4351-93b8-164d1c12cdaa",
   "metadata": {},
   "outputs": [
    {
     "name": "stdout",
     "output_type": "stream",
     "text": [
      "Sample mean: 4.837\n",
      "Sample variance: 5.146431000000001\n"
     ]
    }
   ],
   "source": [
    "import numpy as np\n",
    "\n",
    "sample_size = 1000\n",
    "poisson_mean = 5\n",
    "sample = np.random.poisson(poisson_mean, size=sample_size)\n",
    "sample_mean = np.mean(sample)\n",
    "sample_variance = np.var(sample)\n",
    "\n",
    "print(\"Sample mean:\", sample_mean)\n",
    "print(\"Sample variance:\", sample_variance)\n"
   ]
  },
  {
   "cell_type": "markdown",
   "id": "3a1ebcc5-813f-42b6-b291-c558373634ea",
   "metadata": {},
   "source": [
    "Q9. How mean and variance are related in Binomial distribution and Poisson distribution?"
   ]
  },
  {
   "cell_type": "code",
   "execution_count": 9,
   "id": "491305ec-29c9-446c-893b-c2e398985278",
   "metadata": {},
   "outputs": [
    {
     "data": {
      "text/plain": [
       "'\\nIn a binomial distribution, the mean and variance are both directly proportional to the number of trials and the probability of success in each trial. \\n                            Specifically, if X ~ Bin(n, p), then the mean of X is μ = np and the variance of X is σ^2 = np(1-p).\\n\\nIn a Poisson distribution, the mean and variance are equal and are both equal to λ, the parameter of the distribution. \\n                            Specifically, if X ~ Pois(λ), then the mean and variance of X are both λ.\\n'"
      ]
     },
     "execution_count": 9,
     "metadata": {},
     "output_type": "execute_result"
    }
   ],
   "source": [
    "# Answer:\n",
    "'''\n",
    "In a binomial distribution, the mean and variance are both directly proportional to the number of trials and the probability of success in each trial. \n",
    "                            Specifically, if X ~ Bin(n, p), then the mean of X is μ = np and the variance of X is σ^2 = np(1-p).\n",
    "\n",
    "In a Poisson distribution, the mean and variance are equal and are both equal to λ, the parameter of the distribution. \n",
    "                            Specifically, if X ~ Pois(λ), then the mean and variance of X are both λ.\n",
    "'''"
   ]
  },
  {
   "cell_type": "markdown",
   "id": "fce55d7b-3684-450f-a86a-0afad57dc66e",
   "metadata": {},
   "source": [
    "Q10. In normal distribution with respect to mean position, where does the least frequent data appear?"
   ]
  },
  {
   "cell_type": "code",
   "execution_count": 10,
   "id": "8cf9b9f5-2a58-4651-84b2-b74a64678bf5",
   "metadata": {},
   "outputs": [
    {
     "data": {
      "text/plain": [
       "'\\nIn normal distribution, the least frequent data appear in the tails, farthest away from the mean. \\nThis is because the probability density function of a normal distribution is highest at the mean and decreases as the distance from the mean increases. \\nTherefore, data points that are farther away from the mean have lower probability of occurring and are less frequent.\\n\\n'"
      ]
     },
     "execution_count": 10,
     "metadata": {},
     "output_type": "execute_result"
    }
   ],
   "source": [
    "# Answer:\n",
    "'''\n",
    "In normal distribution, the least frequent data appear in the tails, farthest away from the mean. \n",
    "This is because the probability density function of a normal distribution is highest at the mean and decreases as the distance from the mean increases. \n",
    "Therefore, data points that are farther away from the mean have lower probability of occurring and are less frequent.\n",
    "\n",
    "'''"
   ]
  },
  {
   "cell_type": "code",
   "execution_count": null,
   "id": "16fb5744-490d-4139-b28b-28a072da4bc7",
   "metadata": {},
   "outputs": [],
   "source": []
  },
  {
   "cell_type": "code",
   "execution_count": null,
   "id": "013b7a17-6f72-43d0-8d34-bf7c43283837",
   "metadata": {},
   "outputs": [],
   "source": []
  }
 ],
 "metadata": {
  "kernelspec": {
   "display_name": "Python 3 (ipykernel)",
   "language": "python",
   "name": "python3"
  },
  "language_info": {
   "codemirror_mode": {
    "name": "ipython",
    "version": 3
   },
   "file_extension": ".py",
   "mimetype": "text/x-python",
   "name": "python",
   "nbconvert_exporter": "python",
   "pygments_lexer": "ipython3",
   "version": "3.10.8"
  }
 },
 "nbformat": 4,
 "nbformat_minor": 5
}
