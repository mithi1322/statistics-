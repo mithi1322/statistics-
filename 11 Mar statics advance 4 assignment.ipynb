{
 "cells": [
  {
   "cell_type": "markdown",
   "id": "4a407cd8-7038-415f-a8e1-e3b07ae1bb62",
   "metadata": {},
   "source": [
    "Q1: What is the difference between a t-test and a z-test? Provide an example scenario where you would\n",
    "use each type of test."
   ]
  },
  {
   "cell_type": "code",
   "execution_count": null,
   "id": "6bceb573-c656-493b-b4cf-d788ec7e194c",
   "metadata": {},
   "outputs": [],
   "source": [
    "# Answer:\n",
    "'''\n",
    "The difference between the two tests lies in the assumptions about the population. A z-test is used when the population standard deviation is known, \n",
    "or when the sample size is large enough to assume a normal distribution of the population. A t-test is used when the population standard deviation is unknown, and the sample size is small.\n",
    "\n",
    "For example, suppose a researcher wants to test whether the mean height of men is different from the mean height of women in a population. \n",
    "If the population standard deviation of height is known, the researcher could use a z-test. If the population standard deviation is unknown, or the sample size is small, the researcher would use a t-test.\n",
    "\n",
    "'''"
   ]
  },
  {
   "cell_type": "markdown",
   "id": "3f0d09ba-ce41-456e-a83c-e26bea17dafe",
   "metadata": {},
   "source": [
    "Q2: Differentiate between one-tailed and two-tailed tests."
   ]
  },
  {
   "cell_type": "code",
   "execution_count": null,
   "id": "7c5b5d91-8564-481d-ad3a-f9d43352d182",
   "metadata": {},
   "outputs": [],
   "source": [
    "# Answer:\n",
    "'''\n",
    "In statistical hypothesis testing, a one-tailed test is a type of hypothesis test where the null hypothesis is rejected only if the sample data falls in one tail (or direction) \n",
    "of the probability distribution. A one-tailed test is also referred to as a directional test and A two-tailed test is a hypothesis test where the null hypothesis is rejected \n",
    "if the sample data falls in either tail (or direction) of the probability distribution. A two-tailed test is also referred to as a non-directional test.\n",
    "'''"
   ]
  },
  {
   "cell_type": "markdown",
   "id": "05857b7e-36ea-44f2-9541-49cb8b95608e",
   "metadata": {},
   "source": [
    "Q3: Explain the concept of Type 1 and Type 2 errors in hypothesis testing. Provide an example scenario for\n",
    "each type of error."
   ]
  },
  {
   "cell_type": "code",
   "execution_count": null,
   "id": "90f9b47f-7790-475c-ad1d-244abc075876",
   "metadata": {},
   "outputs": [],
   "source": [
    "# Answer:\n",
    "'''\n",
    "Type 1 error occurs when the null hypothesis is rejected even though it is actually true. This means that the test result concludes that there is a statistically significant difference when there is actually none. \n",
    "This error is also called a false positive. The probability of making a Type 1 error is denoted by the Greek letter alpha (α) and is typically set to 0.05 or 0.01, which represents the level of significance.\n",
    "# Example:\n",
    "An example of a Type 1 error is when a medical test for a disease comes out positive, but the patient does not actually have the disease. \n",
    "The null hypothesis in this scenario is that the patient does not have the disease, but the test incorrectly rejects it, leading to a false positive.\n",
    "\n",
    "Type 2 error occurs when the null hypothesis is not rejected even though it is actually false. This means that the test result concludes that there is no statistically\n",
    "significant difference when there actually in This error is also called a false negative. The probability of making a Type 2 error is denoted by the Greek letter beta (β).\n",
    "# Example:\n",
    "An example of a Type 2 error is when a medical test for a disease comes out negative, but the patient actually has the disease. The null hypothesis in \n",
    "this scenario is that the patient does not have the disease, but the test incorrectly fails to reject it, leading to a false negative.\n",
    "'''"
   ]
  },
  {
   "cell_type": "markdown",
   "id": "d479d56a-b393-438d-9d6e-63c7135b4676",
   "metadata": {},
   "source": [
    "Q4: Explain Bayes's theorem with an example."
   ]
  },
  {
   "cell_type": "code",
   "execution_count": null,
   "id": "e756acba-dceb-47d1-8087-b78344923b99",
   "metadata": {},
   "outputs": [],
   "source": [
    "# Answer:\n",
    "'''\n",
    "Bayes's theorem is a probability theorem that helps us update our prior knowledge or beliefs about a hypothesis with new evidence. It states that the probability \n",
    "of a hypothesis (H) given the observed evidence (E) is proportional to the likelihood of the evidence given the hypothesis and the prior probability of the hypothesis.\n",
    "\n",
    "The formula for Bayes's theorem is as follows:\n",
    "\n",
    "P(H | E) = P(E | H) * P(H) / P(E)\n",
    "\n",
    "where:\n",
    "\n",
    "P(H | E) is the posterior probability of the hypothesis given the evidence\n",
    "P(E | H) is the likelihood of the evidence given the hypothesis\n",
    "P(H) is the prior probability of the hypothesis\n",
    "P(E) is the marginal probability of the evidence\n",
    "For example, suppose we want to determine the probability that a patient has a certain disease based on a positive test result. \n",
    "Let H be the hypothesis that the patient has the disease and E be the evidence of a positive test result. \n",
    "'''"
   ]
  },
  {
   "cell_type": "markdown",
   "id": "699027d7-4be4-403c-bab4-72b111afba65",
   "metadata": {},
   "source": [
    "Q5: What is a confidence interval? How to calculate the confidence interval, explain with an example."
   ]
  },
  {
   "cell_type": "code",
   "execution_count": null,
   "id": "91946603-a4d0-4a65-bb92-ae83a9c24dfe",
   "metadata": {},
   "outputs": [],
   "source": [
    "# Answer:\n",
    "'''\n",
    "A confidence interval is a range of values that is likely to contain the true population parameter with a certain level of confidence. \n",
    "It is used to estimate the population parameter based on a sample statistic.\n",
    "\n",
    "To calculate the confidence interval, we need to determine the sample size, sample mean, sample standard deviation, level of confidence, \n",
    "and the appropriate critical value from the t-distribution or z-distribution table based on the sample size and level of confidence.\n",
    "\n",
    "The formula to calculate the confidence interval is as follows:\n",
    "\n",
    "Confidence Interval = sample mean ± (critical value) x (standard error)\n",
    "\n",
    "where the standard error is the standard deviation of the sampling distribution.\n",
    "\n",
    "For example, suppose we want to estimate the mean height of a population of 1000 people based on a sample of 100 people. \n",
    "The sample mean height is 170 cm, and the sample standard deviation is 5 cm. We want to calculate a 95% confidence interval for the population mean height.\n",
    "\n",
    "Using the t-distribution table with a degree of freedom of 99 (n-1), we find the critical value to be 1.984. The standard error can be calculated as follows:\n",
    "\n",
    "Standard Error = sample standard deviation / square root of sample size\n",
    "= 5 / square root of 100\n",
    "= 0.5\n",
    "\n",
    "Thus, the confidence interval can be calculated as follows:\n",
    "\n",
    "Confidence Interval = 170 ± 1.984 x 0.5\n",
    "= 170 ± 0.992\n",
    "= (169.008, 170.992)\n",
    "\n",
    "Therefore, we can say with 95% confidence that the true mean height of the population is between 169.008 cm and 170.992 cm.\n",
    "''''"
   ]
  },
  {
   "cell_type": "markdown",
   "id": "10639718-697b-43cf-aab8-2f9266ba3ff1",
   "metadata": {},
   "source": [
    "Q6. Use Bayes' Theorem to calculate the probability of an event occurring given prior knowledge of the\n",
    "event's probability and new evidence. Provide a sample problem and solution."
   ]
  },
  {
   "cell_type": "code",
   "execution_count": null,
   "id": "65ecd29b-45ca-4fe0-9e8c-1beb92913c0c",
   "metadata": {},
   "outputs": [],
   "source": [
    "# Answer:\n",
    "'''\n",
    "Suppose that 5% of people in a certain population have a rare disease. A medical test is available to detect the disease, but it's not perfect: \n",
    "it has a false positive rate of 2% and a false negative rate of 1%. If a person tests positive for the disease, what is the probability that they actually have the disease?\n",
    "\n",
    "Let A denote the event that a person has the disease, and B denote the event that a person tests positive. We want to calculate P(A|B),\n",
    "the probability that a person has the disease given that they tested positive.\n",
    "\n",
    "Using Bayes' Theorem, we have:\n",
    "\n",
    "P(A|B) = P(B|A) * P(A) / P(B)\n",
    "\n",
    "where P(B|A) is the probability of testing positive given that a person has the disease, P(A) is the prior probability of a person having the disease, and P(B) is the probability of testing positive.\n",
    "\n",
    "We know that P(A) = 0.05, and we can calculate P(B|A) using the false negative rate: P(B|A) = 1 - 0.01 = 0.99 (since the test will correctly identify 99% of people who have the disease).\n",
    "\n",
    "To calculate P(B), we need to consider both true and false positives. We have:\n",
    "\n",
    "P(B) = P(B|A) * P(A) + P(B|~A) * P(~A)\n",
    "\n",
    "where ~A denotes the complement of A (i.e., not having the disease). We can calculate P(B|~A) using the false positive rate: \n",
    "P(B|~A) = 0.02 (since the test will incorrectly identify 2% of people who don't have the disease). We also know that P(~A) = 1 - P(A) = 0.95.\n",
    "\n",
    "Plugging in these values, we get:\n",
    "\n",
    "P(B) = 0.99 * 0.05 + 0.02 * 0.95 = 0.0365\n",
    "\n",
    "Finally, we can calculate P(A|B):\n",
    "\n",
    "P(A|B) = P(B|A) * P(A) / P(B) = 0.99 * 0.05 / 0.0365 = 0.1356\n",
    "\n",
    "So the probability that a person who tests positive for the disease actually has the disease is about 13.6%.\n",
    "'''"
   ]
  },
  {
   "cell_type": "markdown",
   "id": "fa5b34df-333a-44eb-b4e7-3c8105141648",
   "metadata": {},
   "source": [
    "Q7. Calculate the 95% confidence interval for a sample of data with a mean of 50 and a standard deviation\n",
    "of 5. Interpret the results."
   ]
  },
  {
   "cell_type": "code",
   "execution_count": null,
   "id": "6cf84ce9-5c70-4f35-ad09-eb031e56b6ad",
   "metadata": {},
   "outputs": [],
   "source": [
    "# Answer:\n",
    "'''\n",
    "we need to use the formula:\n",
    "\n",
    "Confidence interval = sample mean ± (critical value) x (standard error)\n",
    "\n",
    "The critical value is obtained from the t-distribution table for a two-tailed test with 49 degrees of freedom (n-1) and a confidence level of 95%. In this case, the critical value is approximately 2.009.\n",
    "\n",
    "The standard error is calculated as the standard deviation divided by the square root of the sample size:\n",
    "\n",
    "Standard error = 5 / sqrt(50) = 0.707\n",
    "\n",
    "Therefore, the 95% confidence interval can be calculated as:\n",
    "\n",
    "50 ± 2.009 x 0.707 = (48.64, 51.36)\n",
    "\n",
    "Interpretation: We can be 95% confident that the true population mean lies between 48.64 and 51.36 based on the given sample data. This means that if we were to take\n",
    "'''"
   ]
  },
  {
   "cell_type": "markdown",
   "id": "f159462b-c459-4d8a-b18d-0b679f6bc363",
   "metadata": {},
   "source": [
    "Q8. What is the margin of error in a confidence interval? How does sample size affect the margin of error?\n",
    "Provide an example of a scenario where a larger sample size would result in a smaller margin of error."
   ]
  },
  {
   "cell_type": "code",
   "execution_count": null,
   "id": "66cf06f9-a379-46f1-a8ad-b312b85bfc27",
   "metadata": {},
   "outputs": [],
   "source": [
    "# Answer:\n",
    "'''\n",
    "The margin of error in a confidence interval is the range of values above and below the sample statistic that is likely to contain the true population parameter \n",
    "with a certain level of confidence. It is an estimate of the amount of random sampling error in a survey's results.\n",
    "\n",
    "Sample size affects the margin of error inversely, meaning that larger sample sizes tend to have smaller margins of error. This is because a larger sample size \n",
    "provides more information and decreases the variability in the data. The formula to calculate the margin of error is:\n",
    "\n",
    "Margin of Error = (critical value) x (standard error)\n",
    "\n",
    "where the critical value is based on the desired level of confidence and the standard error is based on the sample size, sample standard deviation, and population size (if applicable).\n",
    "\n",
    "For example, suppose a polling company wants to estimate the proportion of voters who support a particular candidate in an upcoming election. They take a sample of 1000 voters\n",
    "and find that 600 of them support the candidate. They want to construct a 95% confidence interval for the true proportion of supporters.\n",
    "\n",
    "Using the formula for the margin of error, we can calculate:\n",
    "\n",
    "Margin of Error = 1.96 x sqrt[(0.6 x 0.4) / 1000] ≈ 0.03\n",
    "\n",
    "The 95% confidence interval for the true proportion of supporters is then [0.57, 0.63]. This means that we can be 95% confident that the true proportion of supporters in the population falls within this range.\n",
    "'''"
   ]
  },
  {
   "cell_type": "markdown",
   "id": "2dcd5395-6190-47b9-b721-b5a2261d6001",
   "metadata": {},
   "source": [
    "Q9. Calculate the z-score for a data point with a value of 75, a population mean of 70, and a population\n",
    "standard deviation of 5. Interpret the results."
   ]
  },
  {
   "cell_type": "code",
   "execution_count": null,
   "id": "8ceaeae6-c49c-4bfd-852b-2a37a1e85963",
   "metadata": {},
   "outputs": [],
   "source": [
    "# Answer:\n",
    "'''\n",
    "To calculate the z-score, we use the formula:\n",
    "\n",
    "z = (x - μ) / σ\n",
    "\n",
    "where x is the data point value, μ is the population mean, and σ is the population standard deviation.\n",
    "\n",
    "Substituting the values given, we get:\n",
    "\n",
    "z = (75 - 70) / 5\n",
    "\n",
    "z = 1\n",
    "\n",
    "Interpreting the results, a z-score of 1 indicates that the data point is one standard deviation above the population mean.\n",
    "'''"
   ]
  },
  {
   "cell_type": "markdown",
   "id": "40b3f113-9a02-4fc6-a456-1eed3aa00768",
   "metadata": {},
   "source": [
    "Q10. In a study of the effectiveness of a new weight loss drug, a sample of 50 participants lost an average\n",
    "of 6 pounds with a standard deviation of 2.5 pounds. Conduct a hypothesis test to determine if the drug is\n",
    "significantly effective at a 95% confidence level using a t-test."
   ]
  },
  {
   "cell_type": "code",
   "execution_count": null,
   "id": "0352d89e-c596-4f81-aa37-2c90f7a75dc1",
   "metadata": {},
   "outputs": [],
   "source": [
    "# Answer:\n",
    "'''\n",
    "We can use a two-tailed t-test since we are testing for a difference in means, and we do not know the population standard deviation. The t-statistic can be calculated as follows:\n",
    "\n",
    "t = (x̄ - μ) / (s / sqrt(n))\n",
    "where x̄ is the sample mean, μ is the population mean (assumed to be 0 under the null hypothesis), s is the sample standard deviation, and n is the sample size.\n",
    "\n",
    "Substituting the given values, we get:\n",
    "\n",
    "t = (6 - 0) / (2.5 / sqrt(50)) = 12.0\n",
    "\n",
    "Using a t-distribution table with 49 degrees of freedom (n - 1), and a significance level of 0.05 (two-tailed), the critical values are ±2.009. \n",
    "Since our calculated t-value of 12.0 is greater than the critical value of 2.009, we reject the null hypothesis and conclude that the weight loss drug is significantly effective at a 95% confidence level.\n",
    "'''"
   ]
  },
  {
   "cell_type": "markdown",
   "id": "c644be65-3610-4f16-94d9-58728679e65f",
   "metadata": {},
   "source": [
    "Q11. In a survey of 500 people, 65% reported being satisfied with their current job. Calculate the 95%\n",
    "confidence interval for the true proportion of people who are satisfied with their job."
   ]
  },
  {
   "cell_type": "code",
   "execution_count": null,
   "id": "77e252f1-5dd8-4694-b864-c1c87f88d853",
   "metadata": {},
   "outputs": [],
   "source": [
    "# Answer:\n",
    "'''\n",
    "To calculate the 95% confidence interval for the true proportion of people who are satisfied with their job, we can use the formula:\n",
    "\n",
    "CI = p ± zsqrt(p(1-p)/n)\n",
    "\n",
    "Where:\n",
    "\n",
    "CI is the confidence interval\n",
    "p is the sample proportion\n",
    "z is the z-score corresponding to the desired confidence level (1.96 for 95% confidence level)\n",
    "sqrt is the square root function\n",
    "n is the sample size\n",
    "Substituting the values given in the problem, we get:\n",
    "\n",
    "CI = 0.65 ± 1.96sqrt(0.65(1-0.65)/500)\n",
    "\n",
    "CI = 0.65 ± 0.049\n",
    "\n",
    "CI = (0.601, 0.699)\n",
    "\n",
    "Interpretation: We are 95% confident that the true proportion of people who are satisfied with their job lies between 60.1% and 69.9%.\n",
    "'''"
   ]
  },
  {
   "cell_type": "markdown",
   "id": "616b4224-851b-45ab-91e0-c45c75cb8409",
   "metadata": {},
   "source": [
    "Q12. A researcher is testing the effectiveness of two different teaching methods on student performance.\n",
    "Sample A has a mean score of 85 with a standard deviation of 6, while sample B has a mean score of 82\n",
    "with a standard deviation of 5. Conduct a hypothesis test to determine if the two teaching methods have a\n",
    "significant difference in student performance using a t-test with a significance level of 0.01."
   ]
  },
  {
   "cell_type": "code",
   "execution_count": 3,
   "id": "a41a7d95-328d-451b-a46a-3d969b3d587b",
   "metadata": {},
   "outputs": [
    {
     "data": {
      "text/plain": [
       "'\\nThe calculated t-value is -2.82.\\n\\nNext, we can find the critical t-value from the t-distribution table at a 99% confidence level with 68 degrees of freedom (df = n1 + n2 - 2 = 30 + 40 - 2 = 68).\\n\\nThe critical t-value is 2.663.\\n\\nSince the calculated t-value (-2.82) is less than the critical t-value (2.663), we reject the null hypothesis.\\n\\nTherefore, we can conclude that there is a significant difference between the means of two samples, and the teaching method used in sample A is more effective than the teaching method used in sample B.\\n'"
      ]
     },
     "execution_count": 3,
     "metadata": {},
     "output_type": "execute_result"
    }
   ],
   "source": [
    "# first calculate the t-statistic:\n",
    "n1 = 30\n",
    "n2 = 40\n",
    "x1 = 85\n",
    "x2 = 82\n",
    "s1 = 6\n",
    "s2 = 5\n",
    "\n",
    "# calculate the pooled standard deviation\n",
    "sp = (((n1-1)*(s1**2)) + ((n2-1)*(s2**2))) / (n1+n2-2)\n",
    "sp = sp**0.5\n",
    "\n",
    "# calculate the t-statistic\n",
    "t = (x1 - x2) / (sp * ((1/n1) + (1/n2)))**0.5\n",
    "\n",
    "'''\n",
    "The calculated t-value is -2.82.\n",
    "\n",
    "Next, we can find the critical t-value from the t-distribution table at a 99% confidence level with 68 degrees of freedom (df = n1 + n2 - 2 = 30 + 40 - 2 = 68).\n",
    "\n",
    "The critical t-value is 2.663.\n",
    "\n",
    "Since the calculated t-value (-2.82) is less than the critical t-value (2.663), we reject the null hypothesis.\n",
    "\n",
    "Therefore, we can conclude that there is a significant difference between the means of two samples, and the teaching method used in sample A is more effective than the teaching method used in sample B.\n",
    "'''\n"
   ]
  },
  {
   "cell_type": "markdown",
   "id": "c065e6f8-d57f-41f1-9b8c-73a195f6ad85",
   "metadata": {},
   "source": [
    "Q13. A population has a mean of 60 and a standard deviation of 8. A sample of 50 observations has a mean\n",
    "of 65. Calculate the 90% confidence interval for the true population mean."
   ]
  },
  {
   "cell_type": "code",
   "execution_count": null,
   "id": "4a3883b1-ceee-494e-a5fa-ebd023e99427",
   "metadata": {},
   "outputs": [],
   "source": [
    "# Answer:\n",
    "'''\n",
    "To calculate the 90% confidence interval for the true population mean, we can use the formula:\n",
    "\n",
    "CI = X̄ ± z(α/2) * (σ/√n)\n",
    "\n",
    "Where:\n",
    "X̄ = sample mean = 65\n",
    "σ = population standard deviation = 8\n",
    "n = sample size = 50\n",
    "α = 1 - confidence level = 0.10 (since we want a 90% confidence interval)\n",
    "z(α/2) = the z-score associated with the alpha value/2 (i.e., the middle of the confidence interval), which can be found using a standard normal distribution table or calculator. \n",
    "For a 90% confidence level, the z-score is 1.645.\n",
    "\n",
    "Plugging in the values, we get:\n",
    "\n",
    "CI = 65 ± 1.645 * (8/√50)\n",
    "CI = 65 ± 2.34\n",
    "CI = (62.66, 67.34)\n",
    "\n",
    "Therefore, we can say with 90% confidence that the true population mean falls between 62.66 and 67.34.\n",
    "'''"
   ]
  },
  {
   "cell_type": "markdown",
   "id": "c24ae260-8ede-4e79-bdfc-42e7ea34c60f",
   "metadata": {},
   "source": [
    "Q14. In a study of the effects of caffeine on reaction time, a sample of 30 participants had an average\n",
    "reaction time of 0.25 seconds with a standard deviation of 0.05 seconds. Conduct a hypothesis test to\n",
    "determine if the caffeine has a significant effect on reaction time at a 90% confidence level using a t-test."
   ]
  },
  {
   "cell_type": "code",
   "execution_count": null,
   "id": "bee1cb15-521e-4069-aa0e-10ecc460861c",
   "metadata": {},
   "outputs": [],
   "source": [
    "# Answer:\n",
    "'''\n",
    "We will use a one-tailed t-test with a significance level of 0.1 (90% confidence level).\n",
    "\n",
    "The formula for the t-test is:\n",
    "\n",
    "t = (x̄ - μ) / (s / √n)\n",
    "\n",
    "Where:\n",
    "\n",
    "x̄ = sample mean\n",
    "μ = hypothesized population mean under the null hypothesis\n",
    "s = sample standard deviation\n",
    "n = sample size\n",
    "\n",
    "Plugging in the given values, we get:\n",
    "\n",
    "t = (0.25 - 0) / (0.05 / √30) = 10.954\n",
    "\n",
    "Using a t-distribution table with 29 degrees of freedom (n-1), we find that the critical value of t for a one-tailed test with a significance level of 0.1 is -1.311.\n",
    "\n",
    "Since the calculated t-value (10.954) is greater than the critical t-value (-1.311), we reject the null hypothesis and conclude that the caffeine has a \n",
    "significant effect on reaction time at a 90% confidence level.\n",
    "'''"
   ]
  },
  {
   "cell_type": "code",
   "execution_count": null,
   "id": "18f21b45-9964-45b1-9b67-0fb85990b661",
   "metadata": {},
   "outputs": [],
   "source": []
  }
 ],
 "metadata": {
  "kernelspec": {
   "display_name": "Python 3 (ipykernel)",
   "language": "python",
   "name": "python3"
  },
  "language_info": {
   "codemirror_mode": {
    "name": "ipython",
    "version": 3
   },
   "file_extension": ".py",
   "mimetype": "text/x-python",
   "name": "python",
   "nbconvert_exporter": "python",
   "pygments_lexer": "ipython3",
   "version": "3.10.8"
  }
 },
 "nbformat": 4,
 "nbformat_minor": 5
}
