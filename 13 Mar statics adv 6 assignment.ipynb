{
 "cells": [
  {
   "cell_type": "markdown",
   "id": "bd560d3a-144d-4b88-af41-f6e4800a71e3",
   "metadata": {},
   "source": [
    "Q1. Explain the assumptions required to use ANOVA and provide examples of violations that could impact\n",
    "the validity of the results."
   ]
  },
  {
   "cell_type": "code",
   "execution_count": 1,
   "id": "dc6ee155-a4ca-4e50-97c6-df4045b55347",
   "metadata": {},
   "outputs": [],
   "source": [
    "# Answer:\n",
    "'''\n",
    "The assumptions required for ANOVA are:\n",
    "\n",
    "Normality: The data in each group should follow a normal distribution. Violation of this assumption can lead to inaccurate p-values and confidence intervals. \n",
    "            For example, if the data in one of the groups is highly skewed, ANOVA may not be appropriate.\n",
    "\n",
    "Homogeneity of variance: The variance of the data in each group should be equal. This assumption is also known as homoscedasticity. \n",
    "                        If the variances are unequal, then the ANOVA results may be unreliable. For example, if one group has a much larger variance than the others, then the ANOVA results may be impacted.\n",
    "\n",
    "Independence: The observations in each group should be independent of each other. Violation of this assumption can lead to inaccurate p-values and confidence intervals. \n",
    "                For example, if the observations in one group are correlated with each other, then ANOVA may not be appropriate.\n",
    "\n",
    "Examples of violations that could impact the validity of ANOVA results are:\n",
    "\n",
    "Outliers: Outliers can have a significant impact on the mean and variance of a group, which can violate the assumptions of normality and homogeneity of variance.\n",
    "\n",
    "Non-normality: If the data in each group does not follow a normal distribution, the ANOVA results may be unreliable.\n",
    "\n",
    "Unequal variances: If the variances in each group are significantly different, then ANOVA may not be appropriate.\n",
    "\n",
    "Correlated data: If the observations in each group are not independent, then ANOVA may not be appropriate.\n",
    "\n",
    "Missing data: If there is a significant amount of missing data, then the ANOVA results may be unreliable.\n",
    "\n",
    "'''"
   ]
  },
  {
   "cell_type": "markdown",
   "id": "a789d7d2-2962-4c6b-a7de-1c9328d03490",
   "metadata": {},
   "source": [
    "Q2. What are the three types of ANOVA, and in what situations would each be used?"
   ]
  },
  {
   "cell_type": "code",
   "execution_count": null,
   "id": "272b4f80-aaae-4546-9ca4-17c265d7d506",
   "metadata": {},
   "outputs": [],
   "source": [
    "# Answer:\n",
    "'''\n",
    "The three types of ANOVA (Analysis of Variance) are:\n",
    "\n",
    "One-Way ANOVA: This type of ANOVA is used when there is one categorical independent variable (also known as a factor) and one continuous dependent variable. \n",
    "                It is used to test if there is a significant difference in the mean values of the dependent variable across two or more groups defined by the independent variable.\n",
    "\n",
    "Two-Way ANOVA: This type of ANOVA is used when there are two categorical independent variables and one continuous dependent variable. \n",
    "                It is used to test if there is a significant interaction between the two independent variables, as well as to test for main effects of each independent variable.\n",
    "\n",
    "MANOVA (Multivariate ANOVA): This type of ANOVA is used when there are two or more continuous dependent variables and one or more categorical independent variables. \n",
    "                            It is used to test if there is a significant difference between the mean values of the dependent variables across two or more groups defined by the independent variable.\n",
    "'''"
   ]
  },
  {
   "cell_type": "markdown",
   "id": "5ff6b9fd-8b6a-4673-9203-ba6b4e804c4a",
   "metadata": {},
   "source": [
    "Q3. What is the partitioning of variance in ANOVA, and why is it important to understand this concept?"
   ]
  },
  {
   "cell_type": "code",
   "execution_count": null,
   "id": "3720623c-128d-4f43-88d5-9e4959057dea",
   "metadata": {},
   "outputs": [],
   "source": [
    "# Answer:\n",
    "'''\n",
    "Partitioning of variance in ANOVA refers to the process of dividing the total variance of a dataset into different sources of variation. \n",
    "\n",
    "Understanding the partitioning of variance is important in ANOVA because it allows us to determine the proportion of the total variance in the data that can be explained by the differences between the groups. \n",
    "This is important because it helps us to determine whether the differences between the groups are statistically significant or whether they could have occurred by chance.\n",
    "'''"
   ]
  },
  {
   "cell_type": "markdown",
   "id": "1627ca06-3058-4719-b821-04dcca0fbb1e",
   "metadata": {},
   "source": [
    "Q4. How would you calculate the total sum of squares (SST), explained sum of squares (SSE), and residual\n",
    "sum of squares (SSR) in a one-way ANOVA using Python?"
   ]
  },
  {
   "cell_type": "code",
   "execution_count": 6,
   "id": "a5aaae13-9f1f-4b82-bd24-d44cdd0e6688",
   "metadata": {},
   "outputs": [
    {
     "name": "stdout",
     "output_type": "stream",
     "text": [
      "SST: 453.3333333333333\n",
      "SSE: 254.0\n",
      "SSR: 30.0\n"
     ]
    }
   ],
   "source": [
    "import scipy.stats as stats\n",
    "import pandas as pd\n",
    "\n",
    "# Create a DataFrame with the data\n",
    "data = {'Group A': [4, 6, 8, 7, 5],\n",
    "        'Group B': [10, 12, 14, 11, 13],\n",
    "        'Group C': [19, 17, 21, 20, 18]}\n",
    "df = pd.DataFrame(data)\n",
    "\n",
    "# Calculate the overall mean\n",
    "overall_mean = df.values.mean()\n",
    "\n",
    "# Calculate the total sum of squares\n",
    "squared_deviations = (df - overall_mean) ** 2\n",
    "SST = squared_deviations.values.sum()\n",
    "\n",
    "# Calculate the explained sum of squares\n",
    "group_means = df.mean()\n",
    "squared_deviations = (group_means - overall_mean) ** 2\n",
    "SSE = (squared_deviations * len(df.columns)).sum()\n",
    "\n",
    "# Calculate the residual sum of squares\n",
    "squared_deviations = (df - group_means) ** 2\n",
    "SSR = squared_deviations.values.sum()\n",
    "\n",
    "# Print the results\n",
    "print('SST:', SST)\n",
    "print('SSE:', SSE)\n",
    "print('SSR:', SSR)\n"
   ]
  },
  {
   "cell_type": "markdown",
   "id": "11a3bf97-6977-4b74-924d-0a23aa69d8bf",
   "metadata": {},
   "source": [
    "Q5. In a two-way ANOVA, how would you calculate the main effects and interaction effects using Python?"
   ]
  },
  {
   "cell_type": "code",
   "execution_count": 11,
   "id": "6b8884c4-c91f-41a2-a5ed-3d6f2df08150",
   "metadata": {},
   "outputs": [
    {
     "data": {
      "text/plain": [
       "'\\nIn a two-way ANOVA, the main effects and interaction effects can be calculated using Python with the help of ANOVA tables. \\nThe ANOVA table summarizes the sources of variation, degrees of freedom, sums of squares, mean squares, and F-test statistics for each factor and interaction.\\n\\nTo calculate the main effects, we can look at the ANOVA table and compare the mean squares of each factor to the mean square of the residuals. \\nThe factor with the highest F-test statistic is considered the main effect. For example, if we have a two-way ANOVA with factors A and B, we can calculate the main effect of A by \\ncomparing the mean square for A to the mean square of the residuals, and the main effect of B by comparing the mean square for B to the mean square of the residuals.\\n\\nTo calculate the interaction effect, we can look at the ANOVA table and compare the mean square for the interaction to the mean square of the residuals. \\nIf the F-test statistic for the interaction is significant, then there is evidence of an interaction effect.\\n'"
      ]
     },
     "execution_count": 11,
     "metadata": {},
     "output_type": "execute_result"
    }
   ],
   "source": [
    "# Answer:\n",
    "'''\n",
    "In a two-way ANOVA, the main effects and interaction effects can be calculated using Python with the help of ANOVA tables. \n",
    "The ANOVA table summarizes the sources of variation, degrees of freedom, sums of squares, mean squares, and F-test statistics for each factor and interaction.\n",
    "\n",
    "To calculate the main effects, we can look at the ANOVA table and compare the mean squares of each factor to the mean square of the residuals. \n",
    "The factor with the highest F-test statistic is considered the main effect. For example, if we have a two-way ANOVA with factors A and B, we can calculate the main effect of A by \n",
    "comparing the mean square for A to the mean square of the residuals, and the main effect of B by comparing the mean square for B to the mean square of the residuals.\n",
    "\n",
    "To calculate the interaction effect, we can look at the ANOVA table and compare the mean square for the interaction to the mean square of the residuals. \n",
    "If the F-test statistic for the interaction is significant, then there is evidence of an interaction effect.\n",
    "'''"
   ]
  },
  {
   "cell_type": "markdown",
   "id": "4abaf57c-aad9-4288-bf38-c6051c0729f1",
   "metadata": {},
   "source": [
    "Q6. Suppose you conducted a one-way ANOVA and obtained an F-statistic of 5.23 and a p-value of 0.02.\n",
    "What can you conclude about the differences between the groups, and how would you interpret these\n",
    "results?"
   ]
  },
  {
   "cell_type": "code",
   "execution_count": null,
   "id": "669a1163-3059-418b-8e36-3b99a42873c5",
   "metadata": {},
   "outputs": [],
   "source": [
    "# Answer:\n",
    "'''\n",
    "If the F-statistic is 5.23 and the p-value is 0.02 in a one-way ANOVA, we can conclude that there is a significant difference between at least two of the groups. \n",
    "This means that the null hypothesis of equal means across all groups can be rejected at the specified level of significance (usually 0.05).\n",
    "\n",
    "The F-statistic represents the ratio of the variance between groups to the variance within groups. A large F-statistic indicates that the variance between groups is significantly \n",
    "greater than the variance within groups. The p-value indicates the probability of observing such an extreme F-statistic by chance, assuming that the null hypothesis is true.\n",
    "\n",
    "To interpret the results, we can say that there is strong evidence to suggest that at least two of the groups have different means. However, we cannot determine which specific groups are different \n",
    "from each other based solely on the ANOVA results. Post-hoc tests such as Tukey's HSD or Bonferroni correction can be used to make pairwise comparisons between the groups and determine which pairs are significantly different.\n",
    "'''"
   ]
  },
  {
   "cell_type": "markdown",
   "id": "467fcdf9-d8cf-46e3-914b-1e202b1a579e",
   "metadata": {},
   "source": [
    "Q7. In a repeated measures ANOVA, how would you handle missing data, and what are the potential\n",
    "consequences of using different methods to handle missing data?"
   ]
  },
  {
   "cell_type": "code",
   "execution_count": null,
   "id": "fbd3fb30-ce32-4845-ad86-65ef1e7e2132",
   "metadata": {},
   "outputs": [],
   "source": [
    "# Answer:\n",
    "'''\n",
    "In a repeated measures ANOVA, missing data can be handled in a few ways:\n",
    "\n",
    "Listwise deletion: If a participant has any missing data in any of the repeated measures, they are excluded from the analysis entirely. \n",
    "This method may result in biased estimates if the missing data is not completely random.\n",
    "\n",
    "Pairwise deletion: If a participant has some missing data in one or more repeated measures, their data is still included in the analysis for the measures where data is available. \n",
    "This method may result in loss of power and biased estimates.\n",
    "\n",
    "Imputation: Missing values can be replaced with plausible values. There are different methods to do this such as mean imputation, regression imputation, and multiple imputation.\n",
    "\n",
    "The consequences of using different methods to handle missing data are different. Pairwise deletion results in loss of power as it reduces the sample size. \n",
    "Listwise deletion may result in biased estimates if the missing data is not completely random. Imputation can lead to increased power and unbiased estimates if the imputation model is correctly specified.\n",
    "'''"
   ]
  },
  {
   "cell_type": "markdown",
   "id": "e223a971-3282-4cb7-9bb8-0d3abe63e5b2",
   "metadata": {},
   "source": [
    "Q8. What are some common post-hoc tests used after ANOVA, and when would you use each one? Provide\n",
    "an example of a situation where a post-hoc test might be necessary."
   ]
  },
  {
   "cell_type": "code",
   "execution_count": null,
   "id": "8ffb9c48-78e5-4bc5-8eb4-dfd86c160818",
   "metadata": {},
   "outputs": [],
   "source": [
    "# Answer:\n",
    "'''\n",
    "Post-hoc tests are used to determine which specific group or groups in a ANOVA are significantly different from one another after finding a significant difference between \n",
    "at least two groups in the ANOVA. Some common post-hoc tests include Tukey's Honestly Significant Difference (HSD), Bonferroni correction, Scheffé's test, and Dunnett's test.\n",
    "\n",
    "For example, suppose a researcher conducts an ANOVA to compare the mean weight of fish across four different tanks in a fish farm. The ANOVA shows a significant difference \n",
    "between at least two of the tanks. To determine which tanks are significantly different, the researcher can use a post-hoc test such as Tukey's HSD or Bonferroni correction.\n",
    "'''"
   ]
  },
  {
   "cell_type": "markdown",
   "id": "736e8b0e-28f7-4b93-bcb4-339db99cf211",
   "metadata": {},
   "source": [
    "Q9. A researcher wants to compare the mean weight loss of three diets: A, B, and C. They collect data from\n",
    "50 participants who were randomly assigned to one of the diets. Conduct a one-way ANOVA using Python\n",
    "to determine if there are any significant differences between the mean weight loss of the three diets.\n",
    "Report the F-statistic and p-value, and interpret the results."
   ]
  },
  {
   "cell_type": "code",
   "execution_count": 12,
   "id": "5959656f-b3c2-4f95-8afa-90b6cbec9e49",
   "metadata": {},
   "outputs": [
    {
     "name": "stdout",
     "output_type": "stream",
     "text": [
      "F-statistic: 0.5965250965250967\n",
      "p-value: 0.5529586973116905\n"
     ]
    }
   ],
   "source": [
    "import scipy.stats as stats\n",
    "\n",
    "# create data\n",
    "diet_A = [5, 8, 9, 10, 6, 7, 5, 4, 6, 7, 8, 10, 9, 12, 13, 8, 6, 4, 5, 7, 8, 10, 11, 9, 12, 7, 6, 8, 10, 9]\n",
    "diet_B = [4, 5, 7, 6, 4, 5, 6, 7, 8, 9, 7, 6, 8, 9, 10, 11, 12, 8, 7, 6, 5, 4, 6, 7, 9, 10, 11, 12, 8, 9]\n",
    "diet_C = [3, 5, 6, 7, 4, 3, 5, 6, 7, 8, 9, 6, 7, 8, 9, 10, 11, 12, 8, 7, 6, 5, 4, 6, 7, 9, 10, 11, 12, 8]\n",
    "\n",
    "# conduct one-way ANOVA\n",
    "f_stat, p_value = stats.f_oneway(diet_A, diet_B, diet_C)\n",
    "\n",
    "# print results\n",
    "print(\"F-statistic:\", f_stat)\n",
    "print(\"p-value:\", p_value)\n"
   ]
  },
  {
   "cell_type": "markdown",
   "id": "c2706038-bf6d-4745-8d56-8bb45c09ec4f",
   "metadata": {},
   "source": [
    "Q10. A company wants to know if there are any significant differences in the average time it takes to\n",
    "complete a task using three different software programs: Program A, Program B, and Program C. They\n",
    "randomly assign 30 employees to one of the programs and record the time it takes each employee to\n",
    "complete the task. Conduct a two-way ANOVA using Python to determine if there are any main effects or\n",
    "interaction effects between the software programs and employee experience level (novice vs.\n",
    "experienced). Report the F-statistics and p-values, and interpret the results."
   ]
  },
  {
   "cell_type": "code",
   "execution_count": 16,
   "id": "32693bb1-6da9-4efa-a0eb-fdaedca7ac48",
   "metadata": {},
   "outputs": [
    {
     "name": "stdout",
     "output_type": "stream",
     "text": [
      "                              sum_sq    df           F        PR(>F)\n",
      "C(Software)                94.017222   2.0  301.444603  1.370577e-20\n",
      "C(Experience)               7.380278   1.0   47.326327  1.230393e-07\n",
      "C(Software):C(Experience)   2.153889   2.0    6.905949  3.411440e-03\n",
      "Residual                    4.678333  30.0         NaN           NaN\n"
     ]
    }
   ],
   "source": [
    "import pandas as pd\n",
    "import statsmodels.api as sm\n",
    "from statsmodels.formula.api import ols\n",
    "\n",
    "# Create a DataFrame with the data\n",
    "data = {'Software': ['A', 'A', 'A', 'B', 'B', 'B', 'C', 'C', 'C', 'A', 'A', 'A', 'B', 'B', 'B', 'C', 'C', 'C',\n",
    "                     'A', 'A', 'A', 'B', 'B', 'B', 'C', 'C', 'C', 'A', 'A', 'A', 'B', 'B', 'B', 'C', 'C', 'C'],\n",
    "        'Experience': ['Novice', 'Novice', 'Novice', 'Novice', 'Novice', 'Novice', 'Novice', 'Novice', 'Novice',\n",
    "                       'Experienced', 'Experienced', 'Experienced', 'Experienced', 'Experienced', 'Experienced',\n",
    "                       'Experienced', 'Experienced', 'Experienced', 'Novice', 'Novice', 'Novice', 'Novice', 'Novice',\n",
    "                       'Novice', 'Novice', 'Novice', 'Novice', 'Experienced', 'Experienced', 'Experienced',\n",
    "                       'Experienced', 'Experienced', 'Experienced', 'Experienced', 'Experienced', 'Experienced'],\n",
    "        'Time': [9.2, 8.5, 8.8, 10.4, 11.2, 10.6, 11.7, 12.1, 11.8, 7.6, 7.9, 7.5, 9.8, 9.5, 10.1, 12.5, 12.8, 12.1,\n",
    "                 8.9, 9.2, 8.5, 10.7, 10.5, 10.9, 12.7, 12.9, 12.2, 7.2, 7.5, 7.1, 9.4, 9.2, 9.7, 11.5, 11.8, 11.3]}\n",
    "\n",
    "df = pd.DataFrame(data)\n",
    "\n",
    "# Fit the model with interaction term\n",
    "model = ols('Time ~ C(Software)*C(Experience)', data=df).fit()\n",
    "\n",
    "# Print the ANOVA table\n",
    "table = sm.stats.anova_lm(model, typ=2)\n",
    "print(table)\n"
   ]
  },
  {
   "cell_type": "markdown",
   "id": "f132294a-b4db-4fc0-8a28-29de174f9775",
   "metadata": {},
   "source": [
    "Q11. An educational researcher is interested in whether a new teaching method improves student test\n",
    "scores. They randomly assign 100 students to either the control group (traditional teaching method) or the\n",
    "experimental group (new teaching method) and administer a test at the end of the semester. Conduct a\n",
    "two-sample t-test using Python to determine if there are any significant differences in test scores\n",
    "between the two groups. If the results are significant, follow up with a post-hoc test to determine which\n",
    "group(s) differ significantly from each other."
   ]
  },
  {
   "cell_type": "code",
   "execution_count": 17,
   "id": "bfae4771-ea71-4251-a66f-8ad1be468d56",
   "metadata": {},
   "outputs": [
    {
     "name": "stdout",
     "output_type": "stream",
     "text": [
      "t-statistic: -3.0316172004188147\n",
      "p-value: 0.0027577299763983324\n",
      "   Multiple Comparison of Means - Tukey HSD, FWER=0.05   \n",
      "=========================================================\n",
      " group1    group2    meandiff p-adj  lower  upper  reject\n",
      "---------------------------------------------------------\n",
      "control experimental   4.5336 0.0028 1.5846 7.4826   True\n",
      "---------------------------------------------------------\n"
     ]
    }
   ],
   "source": [
    "import pandas as pd\n",
    "import numpy as np\n",
    "from scipy import stats\n",
    "from statsmodels.stats.multicomp import pairwise_tukeyhsd\n",
    "\n",
    "# Generate data\n",
    "np.random.seed(123)\n",
    "control = np.random.normal(70, 10, size=100)\n",
    "experimental = np.random.normal(75, 10, size=100)\n",
    "\n",
    "# Conduct two-sample t-test\n",
    "t_stat, p_value = stats.ttest_ind(control, experimental)\n",
    "print(\"t-statistic:\", t_stat)\n",
    "print(\"p-value:\", p_value)\n",
    "\n",
    "# Conduct post-hoc test\n",
    "data = pd.DataFrame({'score': np.concatenate([control, experimental]),\n",
    "                     'group': np.concatenate([['control']*len(control), ['experimental']*len(experimental)])})\n",
    "posthoc = pairwise_tukeyhsd(data['score'], data['group'])\n",
    "print(posthoc)\n"
   ]
  },
  {
   "cell_type": "markdown",
   "id": "9cb219fc-2cff-4241-8630-28644f72a803",
   "metadata": {},
   "source": [
    "Q12. A researcher wants to know if there are any significant differences in the average daily sales of three\n",
    "retail stores: Store A, Store B, and Store C. They randomly select 30 days and record the sales for each store\n",
    "on those days. Conduct a repeated measures ANOVA using Python to determine if there are any\n",
    "significant differences in sales between the three stores. If the results are significant, follow up with a post-\n",
    "hoc test to determine which store(s) differ significantly from each other."
   ]
  },
  {
   "cell_type": "code",
   "execution_count": 19,
   "id": "9bafe2d7-06a1-42ec-a9f1-114473acc37d",
   "metadata": {},
   "outputs": [
    {
     "name": "stdout",
     "output_type": "stream",
     "text": [
      "           sum_sq   df     F    PR(>F)\n",
      "store      1950.0  2.0  15.6  0.025980\n",
      "day          37.5  1.0   0.6  0.495025\n",
      "store:day    75.0  2.0   0.6  0.603682\n",
      "Residual    187.5  3.0   NaN       NaN\n"
     ]
    }
   ],
   "source": [
    "import pandas as pd\n",
    "import statsmodels.api as sm\n",
    "from statsmodels.formula.api import ols\n",
    "\n",
    "# Create a dataframe with sales data\n",
    "data = {'store': ['A', 'A', 'A', 'B', 'B', 'B', 'C', 'C', 'C'],\n",
    "        'day': [1, 2, 3, 1, 2, 3, 1, 2, 3],\n",
    "        'sales': [100, 120, 110, 90, 80, 85, 70, 75, 80]}\n",
    "df = pd.DataFrame(data)\n",
    "\n",
    "# Conduct a repeated measures ANOVA\n",
    "model = ols('sales ~ store + day + store:day', data=df).fit()\n",
    "anova_table = sm.stats.anova_lm(model, typ=2)\n",
    "\n",
    "# Print the ANOVA table\n",
    "print(anova_table)\n"
   ]
  },
  {
   "cell_type": "code",
   "execution_count": null,
   "id": "934ea94e-758d-4479-9822-5e034bcb0af2",
   "metadata": {},
   "outputs": [],
   "source": []
  },
  {
   "cell_type": "code",
   "execution_count": null,
   "id": "7be23c9e-f30d-4420-aeb8-55e4ea861bad",
   "metadata": {},
   "outputs": [],
   "source": []
  }
 ],
 "metadata": {
  "kernelspec": {
   "display_name": "Python 3 (ipykernel)",
   "language": "python",
   "name": "python3"
  },
  "language_info": {
   "codemirror_mode": {
    "name": "ipython",
    "version": 3
   },
   "file_extension": ".py",
   "mimetype": "text/x-python",
   "name": "python",
   "nbconvert_exporter": "python",
   "pygments_lexer": "ipython3",
   "version": "3.10.8"
  }
 },
 "nbformat": 4,
 "nbformat_minor": 5
}
