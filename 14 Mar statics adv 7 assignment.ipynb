{
 "cells": [
  {
   "cell_type": "markdown",
   "id": "0eb70e8e-b678-4e79-bce9-5e66300ca91d",
   "metadata": {},
   "source": [
    "Q1. Write a Python function that takes in two arrays of data and calculates the F-value for a variance ratio\n",
    "test. The function should return the F-value and the corresponding p-value for the test."
   ]
  },
  {
   "cell_type": "code",
   "execution_count": 2,
   "id": "5ac3f341-65c1-4d60-bc4a-958d5d625002",
   "metadata": {},
   "outputs": [
    {
     "name": "stdout",
     "output_type": "stream",
     "text": [
      "F-value: 1.0\n",
      "p-value: 0.5\n"
     ]
    }
   ],
   "source": [
    "import numpy as np\n",
    "import scipy.stats as stats\n",
    "\n",
    "def variance_ratio_test(x, y):\n",
    "    n = len(x)\n",
    "    m = len(y)\n",
    "    s1 = np.var(x, ddof=1)\n",
    "    s2 = np.var(y, ddof=1)\n",
    "    F = s1 / s2\n",
    "    p = stats.f.sf(F, n-1, m-1)\n",
    "    return F, p\n",
    "\n",
    "x = [1, 2, 3, 4, 5]\n",
    "y = [6, 7, 8, 9, 10]\n",
    "F, p = variance_ratio_test(x, y)\n",
    "print(\"F-value:\", F)\n",
    "print(\"p-value:\", p)\n"
   ]
  },
  {
   "cell_type": "markdown",
   "id": "5d0f4f1b-b805-4de9-9bb5-226fa4230f9a",
   "metadata": {},
   "source": [
    "Q2. Given a significance level of 0.05 and the degrees of freedom for the numerator and denominator of an\n",
    "F-distribution, write a Python function that returns the critical F-value for a two-tailed test."
   ]
  },
  {
   "cell_type": "code",
   "execution_count": 3,
   "id": "b269db7c-7381-4ef6-8005-9a2e2e881114",
   "metadata": {},
   "outputs": [],
   "source": [
    "from scipy.stats import f\n",
    "\n",
    "def critical_f(alpha, dfn, dfd):\n",
    "    return f.ppf(1-alpha/2, dfn, dfd)\n"
   ]
  },
  {
   "cell_type": "markdown",
   "id": "4086acfe-9076-4979-93c7-0481b0991089",
   "metadata": {},
   "source": [
    "Q3. Write a Python program that generates random samples from two normal distributions with known\n",
    "variances and uses an F-test to determine if the variances are equal. The program should output the F-\n",
    "value, degrees of freedom, and p-value for the test."
   ]
  },
  {
   "cell_type": "code",
   "execution_count": 4,
   "id": "ff91f1d9-2c66-491b-a617-b4c3b12246da",
   "metadata": {},
   "outputs": [
    {
     "name": "stdout",
     "output_type": "stream",
     "text": [
      "F-value: 0.6247\n",
      "Degrees of freedom: 29, 24\n",
      "P-value: 0.2262\n"
     ]
    }
   ],
   "source": [
    "import numpy as np\n",
    "from scipy.stats import f\n",
    "\n",
    "# set seed for reproducibility\n",
    "np.random.seed(123)\n",
    "\n",
    "# generate random samples from two normal distributions\n",
    "n1 = 30\n",
    "n2 = 25\n",
    "mean1 = 0\n",
    "mean2 = 0\n",
    "var1 = 1\n",
    "var2 = 1.5\n",
    "sample1 = np.random.normal(mean1, np.sqrt(var1), n1)\n",
    "sample2 = np.random.normal(mean2, np.sqrt(var2), n2)\n",
    "\n",
    "# calculate the F-value and p-value using an F-test\n",
    "F = np.var(sample1, ddof=1) / np.var(sample2, ddof=1)\n",
    "df1 = n1 - 1\n",
    "df2 = n2 - 1\n",
    "p = 2 * min(f.cdf(F, df1, df2), 1 - f.cdf(F, df1, df2))\n",
    "\n",
    "# output the results\n",
    "print(f\"F-value: {F:.4f}\")\n",
    "print(f\"Degrees of freedom: {df1}, {df2}\")\n",
    "print(f\"P-value: {p:.4f}\")\n",
    "\n"
   ]
  },
  {
   "cell_type": "markdown",
   "id": "682beebc-faff-4736-a1a7-c2727e1d79a4",
   "metadata": {},
   "source": [
    "Q4.The variances of two populations are known to be 10 and 15. A sample of 12 observations is taken from\n",
    "each population. Conduct an F-test at the 5% significance level to determine if the variances are\n",
    "significantly different."
   ]
  },
  {
   "cell_type": "code",
   "execution_count": 5,
   "id": "07f14a62-bc59-4760-b2c9-b2a90049e186",
   "metadata": {},
   "outputs": [
    {
     "name": "stdout",
     "output_type": "stream",
     "text": [
      "F-value: 0.6166854454509096\n",
      "Critical value of F: 3.473699051085809\n",
      "P-value: 0.4354164639699814\n",
      "Fail to reject the null hypothesis that the variances are equal.\n"
     ]
    }
   ],
   "source": [
    "import numpy as np\n",
    "from scipy.stats import f\n",
    "\n",
    "# Given data\n",
    "sigma1_squared = 10\n",
    "sigma2_squared = 15\n",
    "n1 = 12\n",
    "n2 = 12\n",
    "alpha = 0.05\n",
    "\n",
    "# Generate random samples from normal distributions\n",
    "x1 = np.random.normal(0, np.sqrt(sigma1_squared), n1)\n",
    "x2 = np.random.normal(0, np.sqrt(sigma2_squared), n2)\n",
    "\n",
    "# Calculate sample variances\n",
    "s1_squared = np.var(x1, ddof=1)\n",
    "s2_squared = np.var(x2, ddof=1)\n",
    "\n",
    "# Calculate the F-value\n",
    "F = s1_squared / s2_squared\n",
    "\n",
    "# Calculate the critical value of F\n",
    "df1 = n1 - 1\n",
    "df2 = n2 - 1\n",
    "F_crit = f.ppf(1 - alpha/2, df1, df2)\n",
    "\n",
    "# Calculate the p-value\n",
    "p_value = 2 * min(f.cdf(F, df1, df2), 1 - f.cdf(F, df1, df2))\n",
    "\n",
    "# Print the results\n",
    "print(\"F-value:\", F)\n",
    "print(\"Critical value of F:\", F_crit)\n",
    "print(\"P-value:\", p_value)\n",
    "\n",
    "if F < F_crit:\n",
    "    print(\"Fail to reject the null hypothesis that the variances are equal.\")\n",
    "else:\n",
    "    print(\"Reject the null hypothesis that the variances are equal.\")\n"
   ]
  },
  {
   "cell_type": "markdown",
   "id": "d8f7e8bc-99ff-4f50-9fe1-e7846b1882a4",
   "metadata": {},
   "source": [
    "Q5. A manufacturer claims that the variance of the diameter of a certain product is 0.005. A sample of 25\n",
    "products is taken, and the sample variance is found to be 0.006. Conduct an F-test at the 1% significance\n",
    "level to determine if the claim is justified."
   ]
  },
  {
   "cell_type": "code",
   "execution_count": 12,
   "id": "6940be17-5f2f-4896-b90b-301ed8dd766f",
   "metadata": {},
   "outputs": [
    {
     "name": "stdout",
     "output_type": "stream",
     "text": [
      "Fail to reject the null hypothesis. The claim is justified.\n"
     ]
    }
   ],
   "source": [
    "import scipy.stats as stats\n",
    "\n",
    "n = 25\n",
    "alpha = 0.01\n",
    "sigma_sq = 0.005\n",
    "s_sq = 0.006\n",
    "\n",
    "# Calculate the F-value\n",
    "F = s_sq / sigma_sq\n",
    "\n",
    "# Calculate the p-value\n",
    "p_value = 2 * (1 - stats.f.cdf(F, n-1, n-1))\n",
    "\n",
    "# Compare the p-value with the significance level to make a decision\n",
    "if p_value < alpha:\n",
    "    print(\"Reject the null hypothesis. The claim is not justified.\")\n",
    "else:\n",
    "    print(\"Fail to reject the null hypothesis. The claim is justified.\")\n"
   ]
  },
  {
   "cell_type": "markdown",
   "id": "d2af99aa-a4c1-4b26-8e0e-48ee3db598f9",
   "metadata": {},
   "source": [
    "Q6. Write a Python function that takes in the degrees of freedom for the numerator and denominator of an\n",
    "F-distribution and calculates the mean and variance of the distribution. The function should return the\n",
    "mean and variance as a tuple."
   ]
  },
  {
   "cell_type": "code",
   "execution_count": 13,
   "id": "38037979-05b5-44b1-8036-e4d9fa5cd2cb",
   "metadata": {},
   "outputs": [],
   "source": [
    "import math\n",
    "\n",
    "def f_distribution(df_num, df_denom):\n",
    "    \"\"\"\n",
    "    Calculates the mean and variance of an F-distribution given the degrees of freedom for the numerator (df_num)\n",
    "    and denominator (df_denom).\n",
    "    \n",
    "    Parameters:\n",
    "    df_num (int): Degrees of freedom for the numerator.\n",
    "    df_denom (int): Degrees of freedom for the denominator.\n",
    "    \n",
    "    Returns:\n",
    "    Tuple containing the mean and variance of the F-distribution.\n",
    "    \"\"\"\n",
    "    if df_num <= 0 or df_denom <= 0:\n",
    "        raise ValueError(\"Degrees of freedom must be positive integers.\")\n",
    "        \n",
    "    mean = df_denom / (df_denom - 2)\n",
    "    variance = (2 * df_denom**2 * (df_num + df_denom - 2)) / (df_num * (df_denom - 2)**2 * (df_denom - 4))\n",
    "    \n",
    "    return mean, variance\n"
   ]
  },
  {
   "cell_type": "markdown",
   "id": "b6cbaf91-d961-423e-848a-1e1ac22d11ee",
   "metadata": {},
   "source": [
    "Q7. A random sample of 10 measurements is taken from a normal population with unknown variance. The\n",
    "sample variance is found to be 25. Another random sample of 15 measurements is taken from another\n",
    "normal population with unknown variance, and the sample variance is found to be 20. Conduct an F-test\n",
    "at the 10% significance level to determine if the variances are significantly different."
   ]
  },
  {
   "cell_type": "code",
   "execution_count": 14,
   "id": "b863e72e-9fbf-4e07-8d5f-8b070766339f",
   "metadata": {},
   "outputs": [
    {
     "name": "stdout",
     "output_type": "stream",
     "text": [
      "F-value: 1.25\n",
      "Degrees of freedom: 9 14\n",
      "p-value: 0.6832194382585949\n"
     ]
    }
   ],
   "source": [
    "import scipy.stats as stats\n",
    "\n",
    "# Sample size and variance for population 1\n",
    "n1 = 10\n",
    "s1_sq = 25\n",
    "\n",
    "# Sample size and variance for population 2\n",
    "n2 = 15\n",
    "s2_sq = 20\n",
    "\n",
    "# Calculate F-value and p-value\n",
    "f_value = s1_sq / s2_sq\n",
    "df1 = n1 - 1\n",
    "df2 = n2 - 1\n",
    "p_value = stats.f.sf(f_value, df1, df2) * 2 # two-tailed test\n",
    "\n",
    "# Print results\n",
    "print(\"F-value:\", f_value)\n",
    "print(\"Degrees of freedom:\", df1, df2)\n",
    "print(\"p-value:\", p_value)\n"
   ]
  },
  {
   "cell_type": "markdown",
   "id": "88a4c233-c0eb-40b4-aa64-4796240810c9",
   "metadata": {},
   "source": [
    "Q8. The following data represent the waiting times in minutes at two different restaurants on a Saturday\n",
    "night: Restaurant A: 24, 25, 28, 23, 22, 20, 27; Restaurant B: 31, 33, 35, 30, 32, 36. Conduct an F-test at the 5%\n",
    "significance level to determine if the variances are significantly different."
   ]
  },
  {
   "cell_type": "code",
   "execution_count": 17,
   "id": "931dc6b0-a05f-4f69-a15f-d5fe3b2ab270",
   "metadata": {},
   "outputs": [
    {
     "name": "stdout",
     "output_type": "stream",
     "text": [
      "We fail to reject the null hypothesis and conclude that there is not enough evidence to suggest that the variances are different.\n"
     ]
    }
   ],
   "source": [
    "import numpy as np\n",
    "from scipy.stats import f\n",
    "\n",
    "# Sample data\n",
    "restaurant_A = np.array([24, 25, 28, 23, 22, 20, 27])\n",
    "restaurant_B = np.array([31, 33, 35, 30, 32, 36])\n",
    "\n",
    "# Sample variances\n",
    "var_A = np.var(restaurant_A, ddof=1)\n",
    "var_B = np.var(restaurant_B, ddof=1)\n",
    "\n",
    "# Ratio of larger to smaller variance\n",
    "if var_A > var_B:\n",
    "    ratio = var_A / var_B\n",
    "else:\n",
    "    ratio = var_B / var_A\n",
    "\n",
    "F = var_A / var_B if var_A > var_B else var_B / var_A\n",
    "\n",
    "# Degrees of freedom\n",
    "dfn = len(restaurant_A) - 1\n",
    "dfd = len(restaurant_B) - 1\n",
    "p_value = 2 * min(f.cdf(F, dfn, dfd), 1 - f.cdf(F, dfn, dfd))\n",
    "alpha = 0.05\n",
    "\n",
    "# Test of hypothesis\n",
    "if p_value < alpha:\n",
    "    print(\"We reject the null hypothesis and conclude that the variances are significantly different.\")\n",
    "else:\n",
    "    print(\"We fail to reject the null hypothesis and conclude that there is not enough evidence to suggest that the variances are different.\")\n"
   ]
  },
  {
   "cell_type": "markdown",
   "id": "c146a0c3-ea1c-4935-8c31-9d4db50703d8",
   "metadata": {},
   "source": [
    "Q9. The following data represent the test scores of two groups of students: Group A: 80, 85, 90, 92, 87, 83;\n",
    "Group B: 75, 78, 82, 79, 81, 84. Conduct an F-test at the 1% significance level to determine if the variances\n",
    "are significantly different."
   ]
  },
  {
   "cell_type": "code",
   "execution_count": 19,
   "id": "ae513abe-9921-4e8f-bcbc-d7a5ba6b79da",
   "metadata": {},
   "outputs": [
    {
     "name": "stdout",
     "output_type": "stream",
     "text": [
      "F-value: 1.9442622950819677\n",
      "p-value: 0.7584478225464656\n",
      "Fail to reject null hypothesis: Variances are not significantly different\n"
     ]
    }
   ],
   "source": [
    "import numpy as np\n",
    "from scipy.stats import f\n",
    "\n",
    "group_a = [80, 85, 90, 92, 87, 83]\n",
    "group_b = [75, 78, 82, 79, 81, 84]\n",
    "\n",
    "var_a = np.var(group_a, ddof=1)\n",
    "var_b = np.var(group_b, ddof=1)\n",
    "\n",
    "f_value = var_a / var_b\n",
    "p_value = f.cdf(f_value, len(group_a)-1, len(group_b)-1)\n",
    "alpha = 0.01\n",
    "\n",
    "print(\"F-value:\", f_value)\n",
    "print(\"p-value:\", p_value)\n",
    "\n",
    "if p_value < alpha:\n",
    "    print(\"Reject null hypothesis: Variances are significantly different\")\n",
    "else:\n",
    "    print(\"Fail to reject null hypothesis: Variances are not significantly different\")\n"
   ]
  },
  {
   "cell_type": "code",
   "execution_count": null,
   "id": "9a845425-b031-4cc6-9201-9113b328b234",
   "metadata": {},
   "outputs": [],
   "source": []
  }
 ],
 "metadata": {
  "kernelspec": {
   "display_name": "Python 3 (ipykernel)",
   "language": "python",
   "name": "python3"
  },
  "language_info": {
   "codemirror_mode": {
    "name": "ipython",
    "version": 3
   },
   "file_extension": ".py",
   "mimetype": "text/x-python",
   "name": "python",
   "nbconvert_exporter": "python",
   "pygments_lexer": "ipython3",
   "version": "3.10.8"
  }
 },
 "nbformat": 4,
 "nbformat_minor": 5
}
