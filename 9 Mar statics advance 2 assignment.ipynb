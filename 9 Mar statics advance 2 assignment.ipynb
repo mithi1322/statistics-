{
 "cells": [
  {
   "cell_type": "markdown",
   "id": "2ad0e77b-516e-4f36-92e5-2560100bbc64",
   "metadata": {},
   "source": [
    "Q1: What are the Probability Mass Function (PMF) and Probability Density Function (PDF)? Explain with\n",
    "an example."
   ]
  },
  {
   "cell_type": "code",
   "execution_count": 2,
   "id": "78d51b76-de59-4ed4-9ea0-13173ff908b9",
   "metadata": {},
   "outputs": [
    {
     "data": {
      "text/plain": [
       "\"\\nPDF, on the other hand, is a function that describes the probability distribution of a continuous random variable. \\nUnlike PMF, PDF does not give the probability of a specific value, but the probability of a value falling within a particular range. It is defined as:\\n\\nPDF(X=x) = dF(x)/dx\\n\\nwhere X is a continuous random variable and F(x) is its cumulative distribution function (CDF).\\n\\nFor example, let's consider a normal distribution with mean 0 and standard deviation 1. The PDF of this distribution is:\\n\\nPDF(X=x) = (1/√(2π)) * e^(-(x^2)/2)\\n\\nThis gives the probability of a value falling within a particular range, for example, the probability of X being between -1 and 1 is given by:\\n\\nP(-1 ≤ X ≤ 1) = ∫(-1)^(1) (1/√(2π)) * e^(-(x^2)/2) dx\\n\\n\""
      ]
     },
     "execution_count": 2,
     "metadata": {},
     "output_type": "execute_result"
    }
   ],
   "source": [
    "# Answer:\n",
    "\n",
    "# PMF\n",
    "'''\n",
    "PMF is a function that maps each possible value of a discrete random variable to its probability of occurrence. \n",
    "In other words, it gives the probability distribution of a discrete random variable. It is defined as:\n",
    "\n",
    "PMF(X=x) = P(X=x)\n",
    "\n",
    "where X is a discrete random variable and x is one of its possible values.\n",
    "\n",
    "For example, let's consider a fair six-sided die. The PMF of the outcome of a single roll of this die is:\n",
    "\n",
    "PMF(X=1) = 1/6\n",
    "PMF(X=2) = 1/6\n",
    "PMF(X=3) = 1/6\n",
    "PMF(X=4) = 1/6\n",
    "PMF(X=5) = 1/6\n",
    "PMF(X=6) = 1/6\n",
    "'''\n",
    "# PDF\n",
    "'''\n",
    "PDF, on the other hand, is a function that describes the probability distribution of a continuous random variable. \n",
    "Unlike PMF, PDF does not give the probability of a specific value, but the probability of a value falling within a particular range. It is defined as:\n",
    "\n",
    "PDF(X=x) = dF(x)/dx\n",
    "\n",
    "where X is a continuous random variable and F(x) is its cumulative distribution function (CDF).\n",
    "\n",
    "For example, let's consider a normal distribution with mean 0 and standard deviation 1. The PDF of this distribution is:\n",
    "\n",
    "PDF(X=x) = (1/√(2π)) * e^(-(x^2)/2)\n",
    "\n",
    "This gives the probability of a value falling within a particular range, for example, the probability of X being between -1 and 1 is given by:\n",
    "\n",
    "P(-1 ≤ X ≤ 1) = ∫(-1)^(1) (1/√(2π)) * e^(-(x^2)/2) dx\n",
    "\n",
    "'''"
   ]
  },
  {
   "cell_type": "markdown",
   "id": "05249dd6-8c7e-4bbd-8fdd-f3a24debc141",
   "metadata": {},
   "source": [
    "Q2: What is Cumulative Density Function (CDF)? Explain with an example. Why CDF is used?"
   ]
  },
  {
   "cell_type": "code",
   "execution_count": 3,
   "id": "64165267-e7d1-4e02-a91b-0b4e8a4f8adb",
   "metadata": {},
   "outputs": [
    {
     "data": {
      "text/plain": [
       "\"\\nCumulative Distribution Function (CDF) is a probability distribution function that describes the probability of a random variable taking \\na value less than or equal to a given value. In other words, CDF is the probability of a random variable being less than or equal to a certain value.\\n\\nFor example, let's consider a fair six-sided dice. The probability mass function (PMF) of the dice is given by:\\n\\nP(X=1) = 1/6\\nP(X=2) = 1/6\\nP(X=3) = 1/6\\nP(X=4) = 1/6\\nP(X=5) = 1/6\\nP(X=6) = 1/6\\nThe CDF of the dice can be calculated as follows:\\n\\nF(x) = P(X≤x)\\nF(1) = P(X≤1) = 1/6\\nF(2) = P(X≤2) = 1/6 + 1/6 = 1/3\\nF(3) = P(X≤3) = 1/6 + 1/6 + 1/6 = 1/2\\nF(4) = P(X≤4) = 1/6 + 1/6 + 1/6 + 1/6 = 2/3\\nF(5) = P(X≤5) = 1/6 + 1/6 + 1/6 + 1/6 + 1/6 = 5/6\\nF(6) = P(X≤6) = 1/6 + 1/6 + 1/6 + 1/6 + 1/6 + 1/6 = 1\\n\\nThe CDF is used to determine the probability that a random variable takes a value less than or equal to a certain value.\\nIt is also used to determine percentiles and to compare the distribution of different random variables.\\n\""
      ]
     },
     "execution_count": 3,
     "metadata": {},
     "output_type": "execute_result"
    }
   ],
   "source": [
    "# Answer:\n",
    "'''\n",
    "Cumulative Distribution Function (CDF) is a probability distribution function that describes the probability of a random variable taking \n",
    "a value less than or equal to a given value. In other words, CDF is the probability of a random variable being less than or equal to a certain value.\n",
    "\n",
    "For example, let's consider a fair six-sided dice. The probability mass function (PMF) of the dice is given by:\n",
    "\n",
    "P(X=1) = 1/6\n",
    "P(X=2) = 1/6\n",
    "P(X=3) = 1/6\n",
    "P(X=4) = 1/6\n",
    "P(X=5) = 1/6\n",
    "P(X=6) = 1/6\n",
    "The CDF of the dice can be calculated as follows:\n",
    "\n",
    "F(x) = P(X≤x)\n",
    "F(1) = P(X≤1) = 1/6\n",
    "F(2) = P(X≤2) = 1/6 + 1/6 = 1/3\n",
    "F(3) = P(X≤3) = 1/6 + 1/6 + 1/6 = 1/2\n",
    "F(4) = P(X≤4) = 1/6 + 1/6 + 1/6 + 1/6 = 2/3\n",
    "F(5) = P(X≤5) = 1/6 + 1/6 + 1/6 + 1/6 + 1/6 = 5/6\n",
    "F(6) = P(X≤6) = 1/6 + 1/6 + 1/6 + 1/6 + 1/6 + 1/6 = 1\n",
    "\n",
    "The CDF is used to determine the probability that a random variable takes a value less than or equal to a certain value.\n",
    "It is also used to determine percentiles and to compare the distribution of different random variables.\n",
    "'''"
   ]
  },
  {
   "cell_type": "markdown",
   "id": "7a87d21d-74ce-4a27-ac9c-7af59a1f0dac",
   "metadata": {},
   "source": [
    "Q3: What are some examples of situations where the normal distribution might be used as a model?\n",
    "Explain how the parameters of the normal distribution relate to the shape of the distribution."
   ]
  },
  {
   "cell_type": "code",
   "execution_count": 4,
   "id": "39fdcead-051b-46e6-9d1c-ac7f51d2fb14",
   "metadata": {},
   "outputs": [
    {
     "data": {
      "text/plain": [
       "'\\n1. Heights of individuals in a population\\n2. Weights of objects produced by a machine\\n3. Errors in measurements made by instruments\\n4. IQ scores of a population\\n\\nThe normal distribution is characterized by two parameters, the mean (μ) and the standard deviation (σ). The mean represents the central tendency of the distribution, \\nwhile the standard deviation represents the spread or dispersion of the distribution.\\n\\nThe normal distribution is a symmetric distribution, which means that it is bell-shaped and the mean, median, and mode are all the same. \\nThe shape of the distribution is determined by the mean and standard deviation.\\n'"
      ]
     },
     "execution_count": 4,
     "metadata": {},
     "output_type": "execute_result"
    }
   ],
   "source": [
    "# Answer:\n",
    "# Some examples of situations where the normal distribution might be used as a model are:\n",
    "'''\n",
    "1. Heights of individuals in a population\n",
    "2. Weights of objects produced by a machine\n",
    "3. Errors in measurements made by instruments\n",
    "4. IQ scores of a population\n",
    "\n",
    "The normal distribution is characterized by two parameters, the mean (μ) and the standard deviation (σ). The mean represents the central tendency of the distribution, \n",
    "while the standard deviation represents the spread or dispersion of the distribution.\n",
    "\n",
    "The normal distribution is a symmetric distribution, which means that it is bell-shaped and the mean, median, and mode are all the same. \n",
    "The shape of the distribution is determined by the mean and standard deviation.\n",
    "'''"
   ]
  },
  {
   "cell_type": "markdown",
   "id": "916b3f46-84db-4b75-a7c1-820e53aba5a8",
   "metadata": {},
   "source": [
    "Q4: Explain the importance of Normal Distribution. Give a few real-life examples of Normal\n",
    "Distribution."
   ]
  },
  {
   "cell_type": "code",
   "execution_count": 5,
   "id": "2e1ce1a5-779f-44c3-a126-15c1422260d4",
   "metadata": {},
   "outputs": [
    {
     "data": {
      "text/plain": [
       "'\\nNormal Distribution is an important concept in statistics and is used to model a large variety of natural and human-made phenomena. \\nOne of the main reasons for its importance is that many natural processes in the world follow the normal distribution.\\n\\nSome real-life examples of Normal Distribution are:\\nHeight of individuals: The height of people in a population often follows a normal distribution. \\n                        This means that most people will have an average height, with fewer individuals being very tall or very short.\\n\\nIQ scores: Intelligence quotient (IQ) scores are often distributed normally,\\n            with most people having average scores and fewer individuals having very high or very low scores.\\n'"
      ]
     },
     "execution_count": 5,
     "metadata": {},
     "output_type": "execute_result"
    }
   ],
   "source": [
    "# Answer:\n",
    "'''\n",
    "Normal Distribution is an important concept in statistics and is used to model a large variety of natural and human-made phenomena. \n",
    "One of the main reasons for its importance is that many natural processes in the world follow the normal distribution.\n",
    "\n",
    "Some real-life examples of Normal Distribution are:\n",
    "Height of individuals: The height of people in a population often follows a normal distribution. \n",
    "                        This means that most people will have an average height, with fewer individuals being very tall or very short.\n",
    "\n",
    "IQ scores: Intelligence quotient (IQ) scores are often distributed normally,\n",
    "            with most people having average scores and fewer individuals having very high or very low scores.\n",
    "'''"
   ]
  },
  {
   "cell_type": "markdown",
   "id": "5a2ded73-122c-4f35-8568-985da4d2956c",
   "metadata": {},
   "source": [
    "Q5: What is Bernaulli Distribution? Give an Example. What is the difference between Bernoulli\n",
    "Distribution and Binomial Distribution?"
   ]
  },
  {
   "cell_type": "code",
   "execution_count": 6,
   "id": "ca52fe16-dd6f-4d9b-8bcf-158c227ab555",
   "metadata": {},
   "outputs": [
    {
     "data": {
      "text/plain": [
       "'\\nBernoulli distribution is a probability distribution that represents the probability of success or failure in a single Bernoulli trial, \\nwhere success has probability p and failure has probability 1-p. It is named after the Swiss mathematician Jacob Bernoulli.\\n\\nFor example, tossing a coin can be represented by a Bernoulli distribution, where success is getting a head (p=0.5) and failure is getting a tail (1-p=0.5).\\n\\nThe main difference between Bernoulli distribution and binomial distribution is that Bernoulli distribution represents a single trial \\nwhile binomial distribution represents the probability of a certain number of successes in a fixed number of independent Bernoulli trials. \\nIn other words, binomial distribution is the sum of multiple independent Bernoulli trials.\\n\\n'"
      ]
     },
     "execution_count": 6,
     "metadata": {},
     "output_type": "execute_result"
    }
   ],
   "source": [
    "# Answer:\n",
    "'''\n",
    "Bernoulli distribution is a probability distribution that represents the probability of success or failure in a single Bernoulli trial, \n",
    "where success has probability p and failure has probability 1-p. It is named after the Swiss mathematician Jacob Bernoulli.\n",
    "\n",
    "For example, tossing a coin can be represented by a Bernoulli distribution, where success is getting a head (p=0.5) and failure is getting a tail (1-p=0.5).\n",
    "\n",
    "The main difference between Bernoulli distribution and binomial distribution is that Bernoulli distribution represents a single trial \n",
    "while binomial distribution represents the probability of a certain number of successes in a fixed number of independent Bernoulli trials. \n",
    "In other words, binomial distribution is the sum of multiple independent Bernoulli trials.\n",
    "\n",
    "'''"
   ]
  },
  {
   "cell_type": "markdown",
   "id": "870dd9ae-9e45-4fe9-b900-8a65c8964b5d",
   "metadata": {},
   "source": [
    "Q6. Consider a dataset with a mean of 50 and a standard deviation of 10. If we assume that the dataset\n",
    "is normally distributed, what is the probability that a randomly selected observation will be greater\n",
    "than 60? Use the appropriate formula and show your calculations."
   ]
  },
  {
   "cell_type": "code",
   "execution_count": 7,
   "id": "73ec6132-c71f-439a-b2a1-8f1af1ce063f",
   "metadata": {},
   "outputs": [
    {
     "data": {
      "text/plain": [
       "'\\nThe formula for calculating the z-score is:\\n\\nz = (x - mean) / standard deviation\\n\\nwhere x is the value we are interested in, mean is the mean of the dataset, and standard deviation is the standard deviation of the dataset.\\n\\nIn this case, we want to find the probability that x > 60, given that the mean is 50 and the standard deviation is 10. So we have:\\n\\nz = (60 - 50) / 10 = 1\\n\\nNow we need to find the probability of z being greater than 1. We can look up this probability from the standard normal distribution table or use a calculator. \\nThe probability of z being greater than 1 is approximately 0.1587.\\n\\nTherefore, the probability of a randomly selected observation being greater than 60 is 0.1587 or 15.87%.\\n'"
      ]
     },
     "execution_count": 7,
     "metadata": {},
     "output_type": "execute_result"
    }
   ],
   "source": [
    "# Answer:\n",
    "'''\n",
    "The formula for calculating the z-score is:\n",
    "\n",
    "z = (x - mean) / standard deviation\n",
    "\n",
    "where x is the value we are interested in, mean is the mean of the dataset, and standard deviation is the standard deviation of the dataset.\n",
    "\n",
    "In this case, we want to find the probability that x > 60, given that the mean is 50 and the standard deviation is 10. So we have:\n",
    "\n",
    "z = (60 - 50) / 10 = 1\n",
    "\n",
    "Now we need to find the probability of z being greater than 1. We can look up this probability from the standard normal distribution table or use a calculator. \n",
    "The probability of z being greater than 1 is approximately 0.1587.\n",
    "\n",
    "Therefore, the probability of a randomly selected observation being greater than 60 is 0.1587 or 15.87%.\n",
    "'''"
   ]
  },
  {
   "cell_type": "markdown",
   "id": "efdce682-bdb8-492b-a468-4f4acf5ed0cc",
   "metadata": {},
   "source": [
    "Q7: Explain uniform Distribution with an example."
   ]
  },
  {
   "cell_type": "code",
   "execution_count": 8,
   "id": "dccc9d96-2beb-4b8c-8e31-dd7c59f68f61",
   "metadata": {},
   "outputs": [
    {
     "data": {
      "text/plain": [
       "'\\nUniform distribution is a probability distribution where all outcomes or observations have an equal chance of occurring. \\nIn other words, it is a distribution where the probability of an event happening is the same across all possible outcomes.\\n\\nFor example, consider a fair coin flip. The probability of getting heads or tails is 0.5 each. This is an example of a discrete uniform distribution.\\n'"
      ]
     },
     "execution_count": 8,
     "metadata": {},
     "output_type": "execute_result"
    }
   ],
   "source": [
    "# Answer:\n",
    "'''\n",
    "Uniform distribution is a probability distribution where all outcomes or observations have an equal chance of occurring. \n",
    "In other words, it is a distribution where the probability of an event happening is the same across all possible outcomes.\n",
    "\n",
    "For example, consider a fair coin flip. The probability of getting heads or tails is 0.5 each. This is an example of a discrete uniform distribution.\n",
    "'''"
   ]
  },
  {
   "cell_type": "markdown",
   "id": "a86e9422-db53-4cd4-a2ad-bf16e9c60b06",
   "metadata": {},
   "source": [
    "Q8: What is the z score? State the importance of the z score."
   ]
  },
  {
   "cell_type": "code",
   "execution_count": 9,
   "id": "8cee7b07-955f-4c4f-aace-aaf1d5c207eb",
   "metadata": {},
   "outputs": [
    {
     "data": {
      "text/plain": [
       "'\\nThe z-score, also known as the standard score, is a measure of how many standard deviations an observation or data point is away from the mean of a distribution.\\n\\nThe z-score is important because it allows us to compare data points from different distributions on a standardized scale. \\nA positive z-score indicates that the data point is above the mean, while a negative z-score indicates that the data point is below the mean. \\n'"
      ]
     },
     "execution_count": 9,
     "metadata": {},
     "output_type": "execute_result"
    }
   ],
   "source": [
    "# Answer:\n",
    "'''\n",
    "The z-score, also known as the standard score, is a measure of how many standard deviations an observation or data point is away from the mean of a distribution.\n",
    "\n",
    "The z-score is important because it allows us to compare data points from different distributions on a standardized scale. \n",
    "A positive z-score indicates that the data point is above the mean, while a negative z-score indicates that the data point is below the mean. \n",
    "'''"
   ]
  },
  {
   "cell_type": "markdown",
   "id": "a399c545-4111-4039-bdbb-565a8c14f264",
   "metadata": {},
   "source": [
    "Q9: What is Central Limit Theorem? State the significance of the Central Limit Theorem."
   ]
  },
  {
   "cell_type": "code",
   "execution_count": 10,
   "id": "fff45d5e-beb3-400b-af6e-64f134de6e6d",
   "metadata": {},
   "outputs": [
    {
     "data": {
      "text/plain": [
       "'\\nThe Central Limit Theorem (CLT) states that if we have a large sample size from any population, regardless of the distribution of the population,\\nthe sampling distribution of the mean of the sample will be approximately normally distributed.\\n\\nThe significance of the Central Limit Theorem is that it allows us to make inferences about the population mean based on a sample mean, \\neven if the population distribution is unknown or non-normal. It also helps in the estimation of parameters, hypothesis testing, and construction of confidence intervals. \\n'"
      ]
     },
     "execution_count": 10,
     "metadata": {},
     "output_type": "execute_result"
    }
   ],
   "source": [
    "# Answer:\n",
    "'''\n",
    "The Central Limit Theorem (CLT) states that if we have a large sample size from any population, regardless of the distribution of the population,\n",
    "the sampling distribution of the mean of the sample will be approximately normally distributed.\n",
    "\n",
    "The significance of the Central Limit Theorem is that it allows us to make inferences about the population mean based on a sample mean, \n",
    "even if the population distribution is unknown or non-normal. It also helps in the estimation of parameters, hypothesis testing, and construction of confidence intervals. \n",
    "'''"
   ]
  },
  {
   "cell_type": "markdown",
   "id": "73b76e61-d969-4ae1-aebf-9f9c59220cac",
   "metadata": {},
   "source": [
    "Q10: State the assumptions of the Central Limit Theorem."
   ]
  },
  {
   "cell_type": "code",
   "execution_count": 11,
   "id": "b7614c0c-3ee7-4422-9c63-eae70c86bc31",
   "metadata": {},
   "outputs": [
    {
     "data": {
      "text/plain": [
       "'\\n1. The sample size should be large enough (typically, n > 30).\\n2. The sample should be selected randomly from the population.\\n3. The samples should be independent of each other.\\n4. The population should have a finite mean and a finite variance.\\n'"
      ]
     },
     "execution_count": 11,
     "metadata": {},
     "output_type": "execute_result"
    }
   ],
   "source": [
    "# Answer:\n",
    "\n",
    "# The Central Limit Theorem has the following assumptions:\n",
    "'''\n",
    "1. The sample size should be large enough (typically, n > 30).\n",
    "2. The sample should be selected randomly from the population.\n",
    "3. The samples should be independent of each other.\n",
    "4. The population should have a finite mean and a finite variance.\n",
    "'''"
   ]
  },
  {
   "cell_type": "code",
   "execution_count": null,
   "id": "b0fa9c04-1632-49e5-a968-4665fa537854",
   "metadata": {},
   "outputs": [],
   "source": []
  },
  {
   "cell_type": "code",
   "execution_count": null,
   "id": "0ed286ee-e1d0-4d0d-b72d-29daf68c0d7d",
   "metadata": {},
   "outputs": [],
   "source": []
  }
 ],
 "metadata": {
  "kernelspec": {
   "display_name": "Python 3 (ipykernel)",
   "language": "python",
   "name": "python3"
  },
  "language_info": {
   "codemirror_mode": {
    "name": "ipython",
    "version": 3
   },
   "file_extension": ".py",
   "mimetype": "text/x-python",
   "name": "python",
   "nbconvert_exporter": "python",
   "pygments_lexer": "ipython3",
   "version": "3.10.8"
  }
 },
 "nbformat": 4,
 "nbformat_minor": 5
}
