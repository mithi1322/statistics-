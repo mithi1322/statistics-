{
 "cells": [
  {
   "cell_type": "markdown",
   "id": "2abe772a-9dca-4821-b77d-4c578cf6d967",
   "metadata": {},
   "source": [
    "Q1: What is Estimation Statistics? Explain point estimate and interval estimate."
   ]
  },
  {
   "cell_type": "code",
   "execution_count": 1,
   "id": "510df3d1-35c6-4ddf-a8a0-3ec0f543e123",
   "metadata": {},
   "outputs": [
    {
     "data": {
      "text/plain": [
       "'\\nEstimation statistics is a branch of statistics that deals with the estimation of population parameters based on sample data. \\n\\nPoint estimate refers to the estimation of a single value of a population parameter using a single statistic (usually the sample mean or sample proportion).\\nInterval estimate, on the other hand, provides a range of plausible values for the population parameter along with a degree of confidence in this range.\\n'"
      ]
     },
     "execution_count": 1,
     "metadata": {},
     "output_type": "execute_result"
    }
   ],
   "source": [
    "# Answer:\n",
    "'''\n",
    "Estimation statistics is a branch of statistics that deals with the estimation of population parameters based on sample data. \n",
    "\n",
    "Point estimate refers to the estimation of a single value of a population parameter using a single statistic (usually the sample mean or sample proportion).\n",
    "Interval estimate, on the other hand, provides a range of plausible values for the population parameter along with a degree of confidence in this range.\n",
    "'''"
   ]
  },
  {
   "cell_type": "markdown",
   "id": "fa27c3a5-4a8b-417e-adac-923152ac1bd1",
   "metadata": {},
   "source": [
    "Q2. Write a Python function to estimate the population mean using a sample mean and standard\n",
    "deviation."
   ]
  },
  {
   "cell_type": "code",
   "execution_count": 2,
   "id": "6b4a3f82-308d-4dd5-9a13-9a5bf0fd7ab9",
   "metadata": {},
   "outputs": [
    {
     "name": "stdout",
     "output_type": "stream",
     "text": [
      "(-0.7631714681523438, 3.763171468152344)\n"
     ]
    }
   ],
   "source": [
    "def estimate_population_mean(sample_mean, sample_std_dev, sample_size, confidence_level=0.95):\n",
    "   \n",
    "    import scipy.stats as stats\n",
    "    standard_error = sample_std_dev / (sample_size ** 0.5)\n",
    "    z_score = stats.norm.ppf((1 + confidence_level) / 2)\n",
    "    margin_of_error = z_score * standard_error\n",
    "    lower_bound = sample_mean - margin_of_error\n",
    "    upper_bound = sample_mean + margin_of_error\n",
    "    return (lower_bound, upper_bound)\n",
    "\n",
    "print(estimate_population_mean(1.5,2,3))\n"
   ]
  },
  {
   "cell_type": "markdown",
   "id": "f26af7a4-87b7-4a0b-baf5-22f894f84349",
   "metadata": {},
   "source": [
    "Q3: What is Hypothesis testing? Why is it used? State the importance of Hypothesis testing."
   ]
  },
  {
   "cell_type": "code",
   "execution_count": 3,
   "id": "c6308448-12a9-488b-94a7-3614f6a31359",
   "metadata": {},
   "outputs": [
    {
     "data": {
      "text/plain": [
       "'\\nHypothesis testing is a statistical technique used to test the validity of a claim or assumption about a population parameter using data from a sample.\\n\\nHypothesis testing is used to assess the evidence against the null hypothesis and make a decision about whether to reject or fail to reject it.\\n\\nThe importance of hypothesis testing lies in its ability to help researchers make informed decisions based on empirical evidence.\\n'"
      ]
     },
     "execution_count": 3,
     "metadata": {},
     "output_type": "execute_result"
    }
   ],
   "source": [
    "# Answer:\n",
    "'''\n",
    "Hypothesis testing is a statistical technique used to test the validity of a claim or assumption about a population parameter using data from a sample.\n",
    "\n",
    "Hypothesis testing is used to assess the evidence against the null hypothesis and make a decision about whether to reject or fail to reject it.\n",
    "\n",
    "The importance of hypothesis testing lies in its ability to help researchers make informed decisions based on empirical evidence.\n",
    "'''"
   ]
  },
  {
   "cell_type": "markdown",
   "id": "6f9b0824-c142-4b43-a8b3-90af123e1d7c",
   "metadata": {},
   "source": [
    "Q4. Create a hypothesis that states whether the average weight of male college students is greater than\n",
    "the average weight of female college students."
   ]
  },
  {
   "cell_type": "code",
   "execution_count": 4,
   "id": "4f78e1fa-8014-4a98-92a6-36c574471b85",
   "metadata": {},
   "outputs": [
    {
     "data": {
      "text/plain": [
       "'\\nHypothesis: The average weight of male college students is greater than the average weight of female college students.\\n'"
      ]
     },
     "execution_count": 4,
     "metadata": {},
     "output_type": "execute_result"
    }
   ],
   "source": [
    "# Answer:\n",
    "'''\n",
    "Hypothesis: The average weight of male college students is greater than the average weight of female college students.\n",
    "'''"
   ]
  },
  {
   "cell_type": "markdown",
   "id": "19940937-71f7-4020-bf61-52ea66c736db",
   "metadata": {},
   "source": [
    "Q5. Write a Python script to conduct a hypothesis test on the difference between two population means,\n",
    "given a sample from each population."
   ]
  },
  {
   "cell_type": "code",
   "execution_count": 5,
   "id": "ff3e0e85-3cb4-4d4c-bde8-1dad51c1cad4",
   "metadata": {},
   "outputs": [
    {
     "name": "stdout",
     "output_type": "stream",
     "text": [
      "t-statistic: 2.7990441241146473\n",
      "p-value: 0.006193667599977898\n",
      "The difference in means is statistically significant at the 95% confidence level.\n"
     ]
    }
   ],
   "source": [
    "import numpy as np\n",
    "from scipy.stats import ttest_ind\n",
    "\n",
    "# generate two samples from normal distributions with different means and standard deviations\n",
    "sample1 = np.random.normal(loc=50, scale=10, size=50)\n",
    "sample2 = np.random.normal(loc=45, scale=8, size=50)\n",
    "t_stat, p_value = ttest_ind(sample1, sample2, equal_var=False)\n",
    "print(\"t-statistic:\", t_stat)\n",
    "print(\"p-value:\", p_value)\n",
    "\n",
    "# check if the difference in means is statistically significant at the 95% confidence level\n",
    "if p_value < 0.05:\n",
    "    print(\"The difference in means is statistically significant at the 95% confidence level.\")\n",
    "else:\n",
    "    print(\"The difference in means is not statistically significant at the 95% confidence level.\")\n"
   ]
  },
  {
   "cell_type": "markdown",
   "id": "caea3e3c-e8cb-48ab-9360-ce2b5f2f2b3b",
   "metadata": {},
   "source": [
    "Q6: What is a null and alternative hypothesis? Give some examples."
   ]
  },
  {
   "cell_type": "code",
   "execution_count": 6,
   "id": "be4fe9d6-9831-4e03-b3ee-f509fe958dd8",
   "metadata": {},
   "outputs": [
    {
     "data": {
      "text/plain": [
       "'\\nIn hypothesis testing, the null hypothesis is a statement that there is no significant difference or relationship between the two variables being tested, \\nwhile the alternative hypothesis is a statement that there is a significant difference or relationship between the two variables.\\n\\nExamples of null hypotheses and alternative hypotheses:\\n\\nNull hypothesis: There is no significant difference in mean test scores between students who study alone and those who study in groups. \\nAlternative hypothesis: Students who study in groups have significantly higher mean test scores than those who study alone.\\n\\n'"
      ]
     },
     "execution_count": 6,
     "metadata": {},
     "output_type": "execute_result"
    }
   ],
   "source": [
    "# Answer:\n",
    "'''\n",
    "In hypothesis testing, the null hypothesis is a statement that there is no significant difference or relationship between the two variables being tested, \n",
    "while the alternative hypothesis is a statement that there is a significant difference or relationship between the two variables.\n",
    "\n",
    "Examples of null hypotheses and alternative hypotheses:\n",
    "\n",
    "Null hypothesis: There is no significant difference in mean test scores between students who study alone and those who study in groups. \n",
    "Alternative hypothesis: Students who study in groups have significantly higher mean test scores than those who study alone.\n",
    "\n",
    "'''"
   ]
  },
  {
   "cell_type": "markdown",
   "id": "9bef4791-63ea-425c-8585-62e495ddb901",
   "metadata": {},
   "source": [
    "Q7: Write down the steps involved in hypothesis testing."
   ]
  },
  {
   "cell_type": "code",
   "execution_count": 7,
   "id": "d8cb28c7-07d2-45ab-aedf-48513ee78cad",
   "metadata": {},
   "outputs": [
    {
     "data": {
      "text/plain": [
       "'\\nThe following are the steps involved in hypothesis testing:\\n\\n1. State the null hypothesis and alternative hypothesis.\\n2. Choose the level of significance (alpha).\\n3. Determine the test statistic based on the type of data and hypothesis being tested.\\n4. Calculate the p-value.\\n5. Compare the p-value with the level of significance (alpha) to decide whether to reject or fail to reject the null hypothesis.\\n6. Interpret the results and draw conclusions.\\n'"
      ]
     },
     "execution_count": 7,
     "metadata": {},
     "output_type": "execute_result"
    }
   ],
   "source": [
    "# Answer:\n",
    "'''\n",
    "The following are the steps involved in hypothesis testing:\n",
    "\n",
    "1. State the null hypothesis and alternative hypothesis.\n",
    "2. Choose the level of significance (alpha).\n",
    "3. Determine the test statistic based on the type of data and hypothesis being tested.\n",
    "4. Calculate the p-value.\n",
    "5. Compare the p-value with the level of significance (alpha) to decide whether to reject or fail to reject the null hypothesis.\n",
    "6. Interpret the results and draw conclusions.\n",
    "'''"
   ]
  },
  {
   "cell_type": "markdown",
   "id": "db2bb532-f8c4-433f-8255-c3c5139107e1",
   "metadata": {},
   "source": [
    "Q8. Define p-value and explain its significance in hypothesis testing."
   ]
  },
  {
   "cell_type": "code",
   "execution_count": 8,
   "id": "bcb7040f-9a8e-408f-a49c-c021fa07f27f",
   "metadata": {},
   "outputs": [
    {
     "data": {
      "text/plain": [
       "'\\nIn hypothesis testing, the p-value is the probability of obtaining a test statistic at least as extreme as the one observed,assuming that the null hypothesis is true.\\nIt is used to determine the level of statistical significance of the results obtained from a hypothesis test.\\n'"
      ]
     },
     "execution_count": 8,
     "metadata": {},
     "output_type": "execute_result"
    }
   ],
   "source": [
    "# answer:\n",
    "'''\n",
    "In hypothesis testing, the p-value is the probability of obtaining a test statistic at least as extreme as the one observed,assuming that the null hypothesis is true.\n",
    "It is used to determine the level of statistical significance of the results obtained from a hypothesis test.\n",
    "'''"
   ]
  },
  {
   "cell_type": "markdown",
   "id": "d6a94927-9db1-4245-beda-25930c10362a",
   "metadata": {},
   "source": [
    "Q9. Generate a Student's t-distribution plot using Python's matplotlib library, with the degrees of freedom\n",
    "parameter set to 10."
   ]
  },
  {
   "cell_type": "code",
   "execution_count": 9,
   "id": "e51b2c78-4a7d-4aef-acd7-177428e20e3c",
   "metadata": {},
   "outputs": [
    {
     "data": {
      "image/png": "[encoded data removed]",
      "text/plain": [
       "<Figure size 640x480 with 1 Axes>"
      ]
     },
     "metadata": {},
     "output_type": "display_data"
    }
   ],
   "source": [
    "import numpy as np\n",
    "import matplotlib.pyplot as plt\n",
    "from scipy.stats import t\n",
    "\n",
    "df = 10\n",
    "x = np.linspace(-5, 5, 1000)\n",
    "# Calculate the pdf and cdf of the t-distribution\n",
    "pdf = t.pdf(x, df)\n",
    "cdf = t.cdf(x, df)\n",
    "# Plot the pdf and cdf\n",
    "plt.plot(x, pdf, label='pdf')\n",
    "plt.plot(x, cdf, label='cdf')\n",
    "plt.legend()\n",
    "plt.title(\"Student's t-distribution with df={}\".format(df))\n",
    "plt.xlabel('x')\n",
    "plt.ylabel('Probability')\n",
    "plt.show()\n"
   ]
  },
  {
   "cell_type": "markdown",
   "id": "b9ec0c38-3890-44de-8141-b4fefd11f28c",
   "metadata": {},
   "source": [
    "Q10. Write a Python program to calculate the two-sample t-test for independent samples, given two\n",
    "random samples of equal size and a null hypothesis that the population means are equal."
   ]
  },
  {
   "cell_type": "code",
   "execution_count": 10,
   "id": "16f688d5-7ea6-41f2-9ccc-4018fa8d6b3f",
   "metadata": {},
   "outputs": [
    {
     "name": "stdout",
     "output_type": "stream",
     "text": [
      "t-statistic:  6.105859135288287\n",
      "p-value:  5.3077258708018485e-09\n"
     ]
    }
   ],
   "source": [
    "import numpy as np\n",
    "from scipy.stats import ttest_ind\n",
    "\n",
    "sample1 = np.random.normal(10, 2, 100)\n",
    "sample2 = np.random.normal(8, 3, 100)\n",
    "# Calculate the t-test for independent samples\n",
    "t_statistic, p_value = ttest_ind(sample1, sample2)\n",
    "\n",
    "print(\"t-statistic: \", t_statistic)\n",
    "print(\"p-value: \", p_value)\n"
   ]
  },
  {
   "cell_type": "markdown",
   "id": "aff4e067-5cd5-4dea-be9f-74560af33d3b",
   "metadata": {},
   "source": [
    "Q11: What is Student’s t distribution? When to use the t-Distribution."
   ]
  },
  {
   "cell_type": "code",
   "execution_count": 11,
   "id": "e155a196-8597-4368-bb0c-e364bc66d1c6",
   "metadata": {},
   "outputs": [
    {
     "data": {
      "text/plain": [
       "\"\\nStudent's t-distribution is a probability distribution that is used to estimate the mean of a \\nnormally distributed population when the sample size is small (less than 30) and the population standard deviation is unknown. \\n\\nThe t-distribution is used in situations where the population standard deviation is unknown, and the sample size is small. \\n\""
      ]
     },
     "execution_count": 11,
     "metadata": {},
     "output_type": "execute_result"
    }
   ],
   "source": [
    "# answer:\n",
    "'''\n",
    "Student's t-distribution is a probability distribution that is used to estimate the mean of a \n",
    "normally distributed population when the sample size is small (less than 30) and the population standard deviation is unknown. \n",
    "\n",
    "The t-distribution is used in situations where the population standard deviation is unknown, and the sample size is small. \n",
    "'''"
   ]
  },
  {
   "cell_type": "markdown",
   "id": "d0bef349-57d4-49dc-a3cd-6e89c1eb1c0a",
   "metadata": {},
   "source": [
    "Q12: What is t-statistic? State the formula for t-statistic."
   ]
  },
  {
   "cell_type": "code",
   "execution_count": 12,
   "id": "bd1e6188-4789-4698-95fe-f73736777add",
   "metadata": {},
   "outputs": [
    {
     "data": {
      "text/plain": [
       "'\\nThe t-statistic is a measure of the difference between the sample mean and the null hypothesis mean, in units of the standard error. \\nIt is used in hypothesis testing to determine whether there is a significant difference between two groups. The formula for t-statistic is:\\n\\nt = (x̄₁ - x̄₂) / [ s²p (1/n₁ + 1/n₂) ]½\\n\\nWhere:\\n        x̄₁ and x̄₂ are the sample means of the two groups\\n        n₁ and n₂ are the sample sizes of the two groups\\n        s²p is the pooled sample variance, calculated as:\\n        s²p = [((n₁ - 1)s₁² + (n₂ - 1)s₂²) / (n₁ + n₂ - 2)]\\n        s₁² and s₂² are the sample variances of the two groups\\n'"
      ]
     },
     "execution_count": 12,
     "metadata": {},
     "output_type": "execute_result"
    }
   ],
   "source": [
    "# Answer:\n",
    "'''\n",
    "The t-statistic is a measure of the difference between the sample mean and the null hypothesis mean, in units of the standard error. \n",
    "It is used in hypothesis testing to determine whether there is a significant difference between two groups. The formula for t-statistic is:\n",
    "\n",
    "t = (x̄₁ - x̄₂) / [ s²p (1/n₁ + 1/n₂) ]½\n",
    "\n",
    "Where:\n",
    "        x̄₁ and x̄₂ are the sample means of the two groups\n",
    "        n₁ and n₂ are the sample sizes of the two groups\n",
    "        s²p is the pooled sample variance, calculated as:\n",
    "        s²p = [((n₁ - 1)s₁² + (n₂ - 1)s₂²) / (n₁ + n₂ - 2)]\n",
    "        s₁² and s₂² are the sample variances of the two groups\n",
    "'''"
   ]
  },
  {
   "cell_type": "markdown",
   "id": "d52a6bc9-61c1-4419-a7d2-0c900a144f5b",
   "metadata": {},
   "source": [
    "Q13. A coffee shop owner wants to estimate the average daily revenue for their shop. They take a random\n",
    "sample of 50 days and find the sample mean revenue to be $500 with a standard deviation of $50.\n",
    "Estimate the population mean revenue with a 95% confidence interval."
   ]
  },
  {
   "cell_type": "code",
   "execution_count": 13,
   "id": "1c8fd0ce-5f49-46a6-989e-185c7de846ed",
   "metadata": {},
   "outputs": [
    {
     "name": "stdout",
     "output_type": "stream",
     "text": [
      "485.79015724388137\n",
      "514.2098427561186\n"
     ]
    }
   ],
   "source": [
    "from scipy.stats import t\n",
    "\n",
    "# t-value for 95% confidence level and 49 degrees of freedom\n",
    "t_value = t.ppf(0.975, 49)\n",
    "\n",
    "sample_mean = 500\n",
    "sample_std = 50\n",
    "sample_size = 50\n",
    "\n",
    "# margin of error\n",
    "margin_of_error = t_value * (sample_std / (sample_size ** 0.5))\n",
    "\n",
    "# confidence interval\n",
    "lower_bound = sample_mean - margin_of_error\n",
    "upper_bound = sample_mean + margin_of_error\n",
    "\n",
    "print(lower_bound)\n",
    "print(upper_bound)"
   ]
  },
  {
   "cell_type": "markdown",
   "id": "2a6df50b-5c5e-4ffe-a4ac-d51b0e511abd",
   "metadata": {},
   "source": [
    "Q14. A researcher hypothesizes that a new drug will decrease blood pressure by 10 mmHg. They conduct a\n",
    "clinical trial with 100 patients and find that the sample mean decrease in blood pressure is 8 mmHg with a\n",
    "standard deviation of 3 mmHg. Test the hypothesis with a significance level of 0.05."
   ]
  },
  {
   "cell_type": "code",
   "execution_count": 16,
   "id": "b8d99521-6252-406c-b132-e265b0415dbf",
   "metadata": {},
   "outputs": [
    {
     "data": {
      "text/plain": [
       "'\\nTo test the hypothesis, we need to perform a one-sample t-test. The null and alternative hypotheses can be stated as:\\n\\nH0: The population mean decrease in blood pressure is 10 mmHg.\\nHa: The population mean decrease in blood pressure is less than 10 mmHg.\\nWe will use a significance level of 0.05, which means that we will reject the null hypothesis if the p-value is less than 0.05.\\n\\nThe t-statistic can be calculated as:\\n\\nt = (sample mean - hypothesized mean) / (sample standard deviation / sqrt(sample size))\\n\\nIn this case:\\n\\nt = (8 - 10) / (3 / sqrt(100)) = -4.47\\n\\nWe have 99 degrees of freedom (sample size - 1). Using a t-table or a t-distribution calculator, we can find that the p-value is less than 0.0001.\\n\\nSince the p-value is less than 0.05, we reject the null hypothesis. We can conclude that there is sufficient evidence to suggest that\\nthe population mean decrease in blood pressure is less than 10 mmHg.\\n'"
      ]
     },
     "execution_count": 16,
     "metadata": {},
     "output_type": "execute_result"
    }
   ],
   "source": [
    "# Answer:\n",
    "'''\n",
    "To test the hypothesis, we need to perform a one-sample t-test. The null and alternative hypotheses can be stated as:\n",
    "\n",
    "H0: The population mean decrease in blood pressure is 10 mmHg.\n",
    "Ha: The population mean decrease in blood pressure is less than 10 mmHg.\n",
    "We will use a significance level of 0.05, which means that we will reject the null hypothesis if the p-value is less than 0.05.\n",
    "\n",
    "The t-statistic can be calculated as:\n",
    "\n",
    "t = (sample mean - hypothesized mean) / (sample standard deviation / sqrt(sample size))\n",
    "\n",
    "In this case:\n",
    "\n",
    "t = (8 - 10) / (3 / sqrt(100)) = -4.47\n",
    "\n",
    "We have 99 degrees of freedom (sample size - 1). Using a t-table or a t-distribution calculator, we can find that the p-value is less than 0.0001.\n",
    "\n",
    "Since the p-value is less than 0.05, we reject the null hypothesis. We can conclude that there is sufficient evidence to suggest that\n",
    "the population mean decrease in blood pressure is less than 10 mmHg.\n",
    "'''"
   ]
  },
  {
   "cell_type": "markdown",
   "id": "6b8035e7-77d4-42ab-a257-297d6ef4fe27",
   "metadata": {},
   "source": [
    "Q15. An electronics company produces a certain type of product with a mean weight of 5 pounds and a\n",
    "standard deviation of 0.5 pounds. A random sample of 25 products is taken, and the sample mean weight\n",
    "is found to be 4.8 pounds. Test the hypothesis that the true mean weight of the products is less than 5\n",
    "pounds with a significance level of 0.01."
   ]
  },
  {
   "cell_type": "code",
   "execution_count": 17,
   "id": "6a1eca2e-7861-4627-8f79-87234f3fbbb0",
   "metadata": {},
   "outputs": [
    {
     "data": {
      "text/plain": [
       "'\\nTo test the hypothesis that the true mean weight of the products is less than 5 pounds, we will use a one-sample t-test. \\nThe null hypothesis is that the true mean weight is 5 pounds and the alternative hypothesis is that the true mean weight is less than 5 pounds.\\n\\nWe can calculate the t-value using the formula:\\n\\nt = (x̄ - μ) / (s / √n)\\n\\nwhere x̄ is the sample mean weight, μ is the hypothesized true mean weight (5 pounds), s is the sample standard deviation (0.5 pounds), and n is the sample size (25).\\n\\nSubstituting the given values, we get:\\n\\nt = (4.8 - 5) / (0.5 / √25) = -2\\n\\nThe degrees of freedom for this test are (n-1) = 24. Using a t-table with 24 degrees of freedom and a significance level of 0.01, we find the critical t-value to be -2.492.\\n\\nSince the calculated t-value (-2) is greater than the critical t-value (-2.492), we can reject the null hypothesis and conclude that there is \\nsufficient evidence to suggest that the true mean weight of the products is less than 5 pounds at a significance level of 0.01.\\n'"
      ]
     },
     "execution_count": 17,
     "metadata": {},
     "output_type": "execute_result"
    }
   ],
   "source": [
    "# answer:\n",
    "'''\n",
    "To test the hypothesis that the true mean weight of the products is less than 5 pounds, we will use a one-sample t-test. \n",
    "The null hypothesis is that the true mean weight is 5 pounds and the alternative hypothesis is that the true mean weight is less than 5 pounds.\n",
    "\n",
    "We can calculate the t-value using the formula:\n",
    "\n",
    "t = (x̄ - μ) / (s / √n)\n",
    "\n",
    "where x̄ is the sample mean weight, μ is the hypothesized true mean weight (5 pounds), s is the sample standard deviation (0.5 pounds), and n is the sample size (25).\n",
    "\n",
    "Substituting the given values, we get:\n",
    "\n",
    "t = (4.8 - 5) / (0.5 / √25) = -2\n",
    "\n",
    "The degrees of freedom for this test are (n-1) = 24. Using a t-table with 24 degrees of freedom and a significance level of 0.01, we find the critical t-value to be -2.492.\n",
    "\n",
    "Since the calculated t-value (-2) is greater than the critical t-value (-2.492), we can reject the null hypothesis and conclude that there is \n",
    "sufficient evidence to suggest that the true mean weight of the products is less than 5 pounds at a significance level of 0.01.\n",
    "'''"
   ]
  },
  {
   "cell_type": "markdown",
   "id": "8e46a7a2-9027-49dc-bff1-9c0e5bd0c6e6",
   "metadata": {},
   "source": [
    "Q16. Two groups of students are given different study materials to prepare for a test. The first group (n1 =\n",
    "30) has a mean score of 80 with a standard deviation of 10, and the second group (n2 = 40) has a mean\n",
    "score of 75 with a standard deviation of 8. Test the hypothesis that the population means for the two\n",
    "groups are equal with a significance level of 0.01."
   ]
  },
  {
   "cell_type": "code",
   "execution_count": 18,
   "id": "e10d068a-8601-47b3-bd38-1be1f3031ed7",
   "metadata": {},
   "outputs": [
    {
     "data": {
      "text/plain": [
       "\"\\nTo test the hypothesis that the population means for the two groups are equal, we can use a two-sample t-test for independent samples.\\n\\nThe null hypothesis is that the population means for the two groups are equal, and the alternative hypothesis is that they are not equal.\\n\\nLet's assume a significance level of 0.01, which means we want to be 99% confident in our result.\\n\\nThe formula for the t-test statistic is:\\nt = (x1 - x2) / sqrt((s1^2 / n1) + (s2^2 / n2))\\n\\nwhere x1 and x2 are the sample means, s1 and s2 are the sample standard deviations, and n1 and n2 are the sample sizes.\\n\\nUsing the given values:\\nx1 = 80, s1 = 10, n1 = 30\\nx2 = 75, s2 = 8, n2 = 40\\n\\nThe t-test statistic is:\\nt = (80 - 75) / sqrt((10^2 / 30) + (8^2 / 40)) = 2.61\\n\\nThe degrees of freedom for the t-test are:\\ndf = (s1^2 / n1 + s2^2 / n2)^2 / ((s1^2 / n1)^2 / (n1 - 1) + (s2^2 / n2)^2 / (n2 - 1)) = 66.8 (rounded to the nearest whole number)\\n\\nWe can find the critical t-value from a t-distribution table with 66 degrees of freedom and a significance level of 0.01. The critical t-value is approximately 2.66.\\n\\nSince the calculated t-value (2.61) is less than the critical t-value (2.66), we fail to reject the null hypothesis. \\nWe can conclude that there is not enough evidence to suggest that the population means for the two groups are different at a significance level of 0.01\\n\""
      ]
     },
     "execution_count": 18,
     "metadata": {},
     "output_type": "execute_result"
    }
   ],
   "source": [
    "# Answer:\n",
    "'''\n",
    "To test the hypothesis that the population means for the two groups are equal, we can use a two-sample t-test for independent samples.\n",
    "\n",
    "The null hypothesis is that the population means for the two groups are equal, and the alternative hypothesis is that they are not equal.\n",
    "\n",
    "Let's assume a significance level of 0.01, which means we want to be 99% confident in our result.\n",
    "\n",
    "The formula for the t-test statistic is:\n",
    "t = (x1 - x2) / sqrt((s1^2 / n1) + (s2^2 / n2))\n",
    "\n",
    "where x1 and x2 are the sample means, s1 and s2 are the sample standard deviations, and n1 and n2 are the sample sizes.\n",
    "\n",
    "Using the given values:\n",
    "x1 = 80, s1 = 10, n1 = 30\n",
    "x2 = 75, s2 = 8, n2 = 40\n",
    "\n",
    "The t-test statistic is:\n",
    "t = (80 - 75) / sqrt((10^2 / 30) + (8^2 / 40)) = 2.61\n",
    "\n",
    "The degrees of freedom for the t-test are:\n",
    "df = (s1^2 / n1 + s2^2 / n2)^2 / ((s1^2 / n1)^2 / (n1 - 1) + (s2^2 / n2)^2 / (n2 - 1)) = 66.8 (rounded to the nearest whole number)\n",
    "\n",
    "We can find the critical t-value from a t-distribution table with 66 degrees of freedom and a significance level of 0.01. The critical t-value is approximately 2.66.\n",
    "\n",
    "Since the calculated t-value (2.61) is less than the critical t-value (2.66), we fail to reject the null hypothesis. \n",
    "We can conclude that there is not enough evidence to suggest that the population means for the two groups are different at a significance level of 0.01\n",
    "'''"
   ]
  },
  {
   "cell_type": "markdown",
   "id": "81ea01b3-7b60-4ca8-8575-f406313795fc",
   "metadata": {},
   "source": [
    "Q17. A marketing company wants to estimate the average number of ads watched by viewers during a TV\n",
    "program. They take a random sample of 50 viewers and find that the sample mean is 4 with a standard\n",
    "deviation of 1.5. Estimate the population mean with a 99% confidence interval."
   ]
  },
  {
   "cell_type": "code",
   "execution_count": 19,
   "id": "6fa330f3-9650-420b-9169-7ea02867ba2d",
   "metadata": {},
   "outputs": [
    {
     "data": {
      "text/plain": [
       "'\\nTo estimate the population mean with a 99% confidence interval, we can use the following formula:\\n\\nConfidence Interval = sample mean ± z-score * standard error\\n\\nwhere:\\nsample mean = 4\\nz-score for a 99% confidence level = 2.576 (from z-table or using a calculator)\\nstandard error = standard deviation / sqrt(sample size) = 1.5 / sqrt(50) = 0.2121 (rounded to 4 decimal places)\\nSubstituting these values into the formula, we get:\\n\\nConfidence Interval = 4 ± 2.576 * 0.2121\\nConfidence Interval = (3.40, 4.60)\\n\\nTherefore, we can be 99% confident that the true population mean number of ads watched by viewers during a TV program falls between 3.40 and 4.60.\\n'"
      ]
     },
     "execution_count": 19,
     "metadata": {},
     "output_type": "execute_result"
    }
   ],
   "source": [
    "# Answer:\n",
    "'''\n",
    "To estimate the population mean with a 99% confidence interval, we can use the following formula:\n",
    "\n",
    "Confidence Interval = sample mean ± z-score * standard error\n",
    "\n",
    "where:\n",
    "sample mean = 4\n",
    "z-score for a 99% confidence level = 2.576 (from z-table or using a calculator)\n",
    "standard error = standard deviation / sqrt(sample size) = 1.5 / sqrt(50) = 0.2121 (rounded to 4 decimal places)\n",
    "Substituting these values into the formula, we get:\n",
    "\n",
    "Confidence Interval = 4 ± 2.576 * 0.2121\n",
    "Confidence Interval = (3.40, 4.60)\n",
    "\n",
    "Therefore, we can be 99% confident that the true population mean number of ads watched by viewers during a TV program falls between 3.40 and 4.60.\n",
    "'''"
   ]
  },
  {
   "cell_type": "code",
   "execution_count": null,
   "id": "ac19c7d3-ebc1-4929-8ea1-04d8f3e5022c",
   "metadata": {},
   "outputs": [],
   "source": []
  }
 ],
 "metadata": {
  "kernelspec": {
   "display_name": "Python 3 (ipykernel)",
   "language": "python",
   "name": "python3"
  },
  "language_info": {
   "codemirror_mode": {
    "name": "ipython",
    "version": 3
   },
   "file_extension": ".py",
   "mimetype": "text/x-python",
   "name": "python",
   "nbconvert_exporter": "python",
   "pygments_lexer": "ipython3",
   "version": "3.10.8"
  }
 },
 "nbformat": 4,
 "nbformat_minor": 5
}
